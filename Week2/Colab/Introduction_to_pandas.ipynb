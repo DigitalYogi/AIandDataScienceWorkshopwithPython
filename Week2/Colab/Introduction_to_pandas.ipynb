{
  "nbformat": 4,
  "nbformat_minor": 0,
  "metadata": {
    "colab": {
      "name": "Introduction_to_pandas.ipynb",
      "provenance": []
    },
    "kernelspec": {
      "name": "python3",
      "display_name": "Python 3"
    },
    "language_info": {
      "name": "python"
    }
  },
  "cells": [
    {
      "cell_type": "markdown",
      "metadata": {
        "id": "cQB73Uv3Eyls"
      },
      "source": [
        "# Creating a Dataframe with Pandas"
      ]
    },
    {
      "cell_type": "code",
      "metadata": {
        "id": "7YYsfD-cGrsW"
      },
      "source": [
        "#import pandas and numpy\n",
        "import pandas as pd\n",
        "import numpy as np"
      ],
      "execution_count": 144,
      "outputs": []
    },
    {
      "cell_type": "code",
      "metadata": {
        "id": "D9aYgbH4E2rK"
      },
      "source": [
        "#First we will create a dictionary\n",
        "d = {'ID': [1, 2, 3], 'Employee': [\"Sam\", \"Alex\", \"Herb\"], 'Programing Language': [\"Python\", \"Java\", \"C++\"], 'salary': [120000, 110000, 100000]}"
      ],
      "execution_count": 145,
      "outputs": []
    },
    {
      "cell_type": "code",
      "metadata": {
        "colab": {
          "base_uri": "https://localhost:8080/",
          "height": 143
        },
        "id": "QKD____ME-85",
        "outputId": "afe096b9-597e-4126-f8c8-1db516f38926"
      },
      "source": [
        "#converting the dicitonary to dataframe\n",
        "df = pd.DataFrame(d)\n",
        "df"
      ],
      "execution_count": 146,
      "outputs": [
        {
          "output_type": "execute_result",
          "data": {
            "text/html": [
              "<div>\n",
              "<style scoped>\n",
              "    .dataframe tbody tr th:only-of-type {\n",
              "        vertical-align: middle;\n",
              "    }\n",
              "\n",
              "    .dataframe tbody tr th {\n",
              "        vertical-align: top;\n",
              "    }\n",
              "\n",
              "    .dataframe thead th {\n",
              "        text-align: right;\n",
              "    }\n",
              "</style>\n",
              "<table border=\"1\" class=\"dataframe\">\n",
              "  <thead>\n",
              "    <tr style=\"text-align: right;\">\n",
              "      <th></th>\n",
              "      <th>ID</th>\n",
              "      <th>Employee</th>\n",
              "      <th>Programing Language</th>\n",
              "      <th>salary</th>\n",
              "    </tr>\n",
              "  </thead>\n",
              "  <tbody>\n",
              "    <tr>\n",
              "      <th>0</th>\n",
              "      <td>1</td>\n",
              "      <td>Sam</td>\n",
              "      <td>Python</td>\n",
              "      <td>120000</td>\n",
              "    </tr>\n",
              "    <tr>\n",
              "      <th>1</th>\n",
              "      <td>2</td>\n",
              "      <td>Alex</td>\n",
              "      <td>Java</td>\n",
              "      <td>110000</td>\n",
              "    </tr>\n",
              "    <tr>\n",
              "      <th>2</th>\n",
              "      <td>3</td>\n",
              "      <td>Herb</td>\n",
              "      <td>C++</td>\n",
              "      <td>100000</td>\n",
              "    </tr>\n",
              "  </tbody>\n",
              "</table>\n",
              "</div>"
            ],
            "text/plain": [
              "   ID Employee Programing Language  salary\n",
              "0   1      Sam              Python  120000\n",
              "1   2     Alex                Java  110000\n",
              "2   3     Herb                 C++  100000"
            ]
          },
          "metadata": {},
          "execution_count": 146
        }
      ]
    },
    {
      "cell_type": "markdown",
      "metadata": {
        "id": "Ptn-wDJ8LqZX"
      },
      "source": [
        "# Operations on Dataframe"
      ]
    },
    {
      "cell_type": "code",
      "metadata": {
        "colab": {
          "base_uri": "https://localhost:8080/"
        },
        "id": "42J206LfIo2_",
        "outputId": "b72b1dc3-eb9f-4370-ab03-733d6e746d7c"
      },
      "source": [
        "#identifying maximum salary\n",
        "print(np.max(df['salary']))"
      ],
      "execution_count": 147,
      "outputs": [
        {
          "output_type": "stream",
          "text": [
            "120000\n"
          ],
          "name": "stdout"
        }
      ]
    },
    {
      "cell_type": "code",
      "metadata": {
        "colab": {
          "base_uri": "https://localhost:8080/"
        },
        "id": "h2-kNbTwLM4T",
        "outputId": "cd7b36f4-0fc2-4e31-cbe4-0f60e43d013e"
      },
      "source": [
        "#identifying minimum salary\n",
        "print(np.min(df['salary']))"
      ],
      "execution_count": 148,
      "outputs": [
        {
          "output_type": "stream",
          "text": [
            "100000\n"
          ],
          "name": "stdout"
        }
      ]
    },
    {
      "cell_type": "code",
      "metadata": {
        "colab": {
          "base_uri": "https://localhost:8080/"
        },
        "id": "MRux0OMqLxfM",
        "outputId": "b08c50c2-b7b6-4c45-cb98-8b6380fc16aa"
      },
      "source": [
        "#calculating the sum of salary\n",
        "print(np.sum(df['salary']))"
      ],
      "execution_count": 149,
      "outputs": [
        {
          "output_type": "stream",
          "text": [
            "330000\n"
          ],
          "name": "stdout"
        }
      ]
    },
    {
      "cell_type": "markdown",
      "metadata": {
        "id": "zxAVikkUM8mp"
      },
      "source": [
        "# Importing Dataset and understanding basic information"
      ]
    },
    {
      "cell_type": "code",
      "metadata": {
        "id": "01L4URBYL6Gt"
      },
      "source": [
        "#importing dataset\n",
        "data = pd.read_csv('/content/drive/MyDrive/IMDB-Movie-Data.csv',index_col=\"Title\")"
      ],
      "execution_count": 150,
      "outputs": []
    },
    {
      "cell_type": "code",
      "metadata": {
        "colab": {
          "base_uri": "https://localhost:8080/"
        },
        "id": "1BGBeT72NUM-",
        "outputId": "560f0061-43cc-4132-bf16-f90ee441fb47"
      },
      "source": [
        "#Show 5 rows of data\n",
        "print(data.head())"
      ],
      "execution_count": 151,
      "outputs": [
        {
          "output_type": "stream",
          "text": [
            "                         Rank  ... Metascore\n",
            "Title                          ...          \n",
            "Guardians of the Galaxy     1  ...      76.0\n",
            "Prometheus                  2  ...      65.0\n",
            "Split                       3  ...      62.0\n",
            "Sing                        4  ...      59.0\n",
            "Suicide Squad               5  ...      40.0\n",
            "\n",
            "[5 rows x 11 columns]\n"
          ],
          "name": "stdout"
        }
      ]
    },
    {
      "cell_type": "code",
      "metadata": {
        "colab": {
          "base_uri": "https://localhost:8080/"
        },
        "id": "KRq2gGLfNl2k",
        "outputId": "b090c821-e944-47a9-ba5b-b11949df7d62"
      },
      "source": [
        "#basic information about this data\n",
        "print(data.info())"
      ],
      "execution_count": 152,
      "outputs": [
        {
          "output_type": "stream",
          "text": [
            "<class 'pandas.core.frame.DataFrame'>\n",
            "Index: 1000 entries, Guardians of the Galaxy to Nine Lives\n",
            "Data columns (total 11 columns):\n",
            " #   Column              Non-Null Count  Dtype  \n",
            "---  ------              --------------  -----  \n",
            " 0   Rank                1000 non-null   int64  \n",
            " 1   Genre               1000 non-null   object \n",
            " 2   Description         1000 non-null   object \n",
            " 3   Director            1000 non-null   object \n",
            " 4   Actors              1000 non-null   object \n",
            " 5   Year                1000 non-null   int64  \n",
            " 6   Runtime (Minutes)   1000 non-null   int64  \n",
            " 7   Rating              1000 non-null   float64\n",
            " 8   Votes               1000 non-null   int64  \n",
            " 9   Revenue (Millions)  872 non-null    float64\n",
            " 10  Metascore           936 non-null    float64\n",
            "dtypes: float64(3), int64(4), object(4)\n",
            "memory usage: 93.8+ KB\n",
            "None\n"
          ],
          "name": "stdout"
        }
      ]
    },
    {
      "cell_type": "code",
      "metadata": {
        "colab": {
          "base_uri": "https://localhost:8080/"
        },
        "id": "3mttdlV3N_yv",
        "outputId": "61fa1925-4fd6-4a38-ac1b-b667d91b7efa"
      },
      "source": [
        "#Shape of dataset\n",
        "print(data.shape)"
      ],
      "execution_count": 153,
      "outputs": [
        {
          "output_type": "stream",
          "text": [
            "(1000, 11)\n"
          ],
          "name": "stdout"
        }
      ]
    },
    {
      "cell_type": "code",
      "metadata": {
        "colab": {
          "base_uri": "https://localhost:8080/"
        },
        "id": "bFPnK1SqOX8-",
        "outputId": "44032633-d802-4ec4-e202-93e7a5213ec9"
      },
      "source": [
        "# basic statistical summaries \n",
        "print(data.describe())"
      ],
      "execution_count": 154,
      "outputs": [
        {
          "output_type": "stream",
          "text": [
            "              Rank         Year  ...  Revenue (Millions)   Metascore\n",
            "count  1000.000000  1000.000000  ...          872.000000  936.000000\n",
            "mean    500.500000  2012.783000  ...           82.956376   58.985043\n",
            "std     288.819436     3.205962  ...          103.253540   17.194757\n",
            "min       1.000000  2006.000000  ...            0.000000   11.000000\n",
            "25%     250.750000  2010.000000  ...           13.270000   47.000000\n",
            "50%     500.500000  2014.000000  ...           47.985000   59.500000\n",
            "75%     750.250000  2016.000000  ...          113.715000   72.000000\n",
            "max    1000.000000  2016.000000  ...          936.630000  100.000000\n",
            "\n",
            "[8 rows x 7 columns]\n"
          ],
          "name": "stdout"
        }
      ]
    },
    {
      "cell_type": "markdown",
      "metadata": {
        "id": "VorPqnrpOsE6"
      },
      "source": [
        "# Data Selection – Indexing and Slicing"
      ]
    },
    {
      "cell_type": "code",
      "metadata": {
        "colab": {
          "base_uri": "https://localhost:8080/"
        },
        "id": "ExGx6WoBOgUa",
        "outputId": "7bc8bed9-2f57-4eae-de7a-848a846f606e"
      },
      "source": [
        "# Extract data as series\n",
        "genre = data['Genre']\n",
        "print(genre)"
      ],
      "execution_count": 155,
      "outputs": [
        {
          "output_type": "stream",
          "text": [
            "Title\n",
            "Guardians of the Galaxy     Action,Adventure,Sci-Fi\n",
            "Prometheus                 Adventure,Mystery,Sci-Fi\n",
            "Split                               Horror,Thriller\n",
            "Sing                        Animation,Comedy,Family\n",
            "Suicide Squad              Action,Adventure,Fantasy\n",
            "                                     ...           \n",
            "Secret in Their Eyes            Crime,Drama,Mystery\n",
            "Hostel: Part II                              Horror\n",
            "Step Up 2: The Streets          Drama,Music,Romance\n",
            "Search Party                       Adventure,Comedy\n",
            "Nine Lives                    Comedy,Family,Fantasy\n",
            "Name: Genre, Length: 1000, dtype: object\n"
          ],
          "name": "stdout"
        }
      ]
    },
    {
      "cell_type": "code",
      "metadata": {
        "colab": {
          "base_uri": "https://localhost:8080/"
        },
        "id": "rHsSJ4E9O7tO",
        "outputId": "189527d2-e8b4-4dff-cefe-fae3e2410dae"
      },
      "source": [
        "# Extract data as dataframe\n",
        "print(data[['Genre']])\n"
      ],
      "execution_count": 156,
      "outputs": [
        {
          "output_type": "stream",
          "text": [
            "                                            Genre\n",
            "Title                                            \n",
            "Guardians of the Galaxy   Action,Adventure,Sci-Fi\n",
            "Prometheus               Adventure,Mystery,Sci-Fi\n",
            "Split                             Horror,Thriller\n",
            "Sing                      Animation,Comedy,Family\n",
            "Suicide Squad            Action,Adventure,Fantasy\n",
            "...                                           ...\n",
            "Secret in Their Eyes          Crime,Drama,Mystery\n",
            "Hostel: Part II                            Horror\n",
            "Step Up 2: The Streets        Drama,Music,Romance\n",
            "Search Party                     Adventure,Comedy\n",
            "Nine Lives                  Comedy,Family,Fantasy\n",
            "\n",
            "[1000 rows x 1 columns]\n"
          ],
          "name": "stdout"
        }
      ]
    },
    {
      "cell_type": "code",
      "metadata": {
        "colab": {
          "base_uri": "https://localhost:8080/"
        },
        "id": "2Vuop5hcPB5l",
        "outputId": "9adff29f-3fc9-4921-b10a-2b278a069a1c"
      },
      "source": [
        "#extracting multiple columns\n",
        "some_cols = data[['Genre','Actors','Director','Rating']]\n",
        "print(some_cols.head())"
      ],
      "execution_count": 157,
      "outputs": [
        {
          "output_type": "stream",
          "text": [
            "                                            Genre  ... Rating\n",
            "Title                                              ...       \n",
            "Guardians of the Galaxy   Action,Adventure,Sci-Fi  ...    8.1\n",
            "Prometheus               Adventure,Mystery,Sci-Fi  ...    7.0\n",
            "Split                             Horror,Thriller  ...    7.3\n",
            "Sing                      Animation,Comedy,Family  ...    7.2\n",
            "Suicide Squad            Action,Adventure,Fantasy  ...    6.2\n",
            "\n",
            "[5 rows x 4 columns]\n"
          ],
          "name": "stdout"
        }
      ]
    },
    {
      "cell_type": "code",
      "metadata": {
        "colab": {
          "base_uri": "https://localhost:8080/"
        },
        "id": "4xST2gzfQqqv",
        "outputId": "14e8e0b0-4c2e-41d0-b853-215e4cb3ee70"
      },
      "source": [
        "#slicing by value\n",
        "print(data.loc[['Suicide Squad']][['Genre','Actors','Director','Rating','Revenue (Millions)']])"
      ],
      "execution_count": 158,
      "outputs": [
        {
          "output_type": "stream",
          "text": [
            "                                  Genre  ... Revenue (Millions)\n",
            "Title                                    ...                   \n",
            "Suicide Squad  Action,Adventure,Fantasy  ...             325.02\n",
            "\n",
            "[1 rows x 5 columns]\n"
          ],
          "name": "stdout"
        }
      ]
    },
    {
      "cell_type": "code",
      "metadata": {
        "colab": {
          "base_uri": "https://localhost:8080/"
        },
        "id": "LV0eUUfSPGHV",
        "outputId": "8ae8bced-c168-4f99-d392-d06e43ca6d2d"
      },
      "source": [
        "#slicing by position\n",
        "print(data.iloc[10:15][['Rating','Revenue (Millions)']])"
      ],
      "execution_count": 159,
      "outputs": [
        {
          "output_type": "stream",
          "text": [
            "                                         Rating  Revenue (Millions)\n",
            "Title                                                              \n",
            "Fantastic Beasts and Where to Find Them     7.5              234.02\n",
            "Hidden Figures                              7.8              169.27\n",
            "Rogue One                                   7.9              532.17\n",
            "Moana                                       7.7              248.75\n",
            "Colossal                                    6.4                2.87\n"
          ],
          "name": "stdout"
        }
      ]
    },
    {
      "cell_type": "markdown",
      "metadata": {
        "id": "nxQAt5MZTKxy"
      },
      "source": [
        "# Data Selection – Based on Conditional Filtering"
      ]
    },
    {
      "cell_type": "code",
      "metadata": {
        "colab": {
          "base_uri": "https://localhost:8080/"
        },
        "id": "lCw11jS6TPAT",
        "outputId": "c55502e7-50cf-4e83-846f-b67aa49415e2"
      },
      "source": [
        "#pick only movies that are released from 2010 to 2016, have a rating of less than 6.0\n",
        "print(data[((data['Year'] >= 2010) & (data['Year'] <= 2016))\n",
        "      & (data['Rating'] < 6.0)\n",
        "      ].head())"
      ],
      "execution_count": 160,
      "outputs": [
        {
          "output_type": "stream",
          "text": [
            "                                  Rank  ... Metascore\n",
            "Title                                   ...          \n",
            "Independence Day: Resurgence        25  ...      32.0\n",
            "Dead Awake                          28  ...       NaN\n",
            "Assassin's Creed                    30  ...      36.0\n",
            "Resident Evil: The Final Chapter    35  ...      49.0\n",
            "Don't Fuck in the Woods             43  ...       NaN\n",
            "\n",
            "[5 rows x 11 columns]\n"
          ],
          "name": "stdout"
        }
      ]
    },
    {
      "cell_type": "code",
      "metadata": {
        "colab": {
          "base_uri": "https://localhost:8080/"
        },
        "id": "dPFQXCtEgUfG",
        "outputId": "67d545d3-9dba-4bf1-ac87-2484f0daf057"
      },
      "source": [
        "#director with their average rating of the movies\n",
        "print(data.groupby('Director')[['Rating']].mean().head())"
      ],
      "execution_count": 161,
      "outputs": [
        {
          "output_type": "stream",
          "text": [
            "                     Rating\n",
            "Director                   \n",
            "Aamir Khan              8.5\n",
            "Abdellatif Kechiche     7.8\n",
            "Adam Leon               6.5\n",
            "Adam McKay              7.0\n",
            "Adam Shankman           6.3\n"
          ],
          "name": "stdout"
        }
      ]
    },
    {
      "cell_type": "markdown",
      "metadata": {
        "id": "a7Gc1Cbqgp4T"
      },
      "source": [
        "# Sorting Operations"
      ]
    },
    {
      "cell_type": "code",
      "metadata": {
        "colab": {
          "base_uri": "https://localhost:8080/"
        },
        "id": "m7D6SfI9ghkk",
        "outputId": "75888b58-75c7-4fa0-d3a4-04c4441dc6c3"
      },
      "source": [
        "#we have listed the average rating for each ‘Director’, now we want to sort them\n",
        "print(data.groupby('Director')[['Rating']].mean().sort_values(['Rating'], ascending=True).head())"
      ],
      "execution_count": 124,
      "outputs": [
        {
          "output_type": "stream",
          "text": [
            "                   Rating\n",
            "Director                 \n",
            "Jason Friedberg       1.9\n",
            "James Wong            2.7\n",
            "Shawn Burkett         2.7\n",
            "Jonathan Holbrook     3.2\n",
            "Femi Oyeniran         3.5\n"
          ],
          "name": "stdout"
        }
      ]
    },
    {
      "cell_type": "markdown",
      "metadata": {
        "id": "rqDCsZ9rg7rA"
      },
      "source": [
        "# Dealing with missing values"
      ]
    },
    {
      "cell_type": "code",
      "metadata": {
        "colab": {
          "base_uri": "https://localhost:8080/"
        },
        "id": "GAZae0Ypg0sp",
        "outputId": "b7a1ad30-1471-42a3-8228-8a4fa9863f8b"
      },
      "source": [
        "#checking the number of null value in each column\n",
        "print(data.isnull().sum())"
      ],
      "execution_count": 130,
      "outputs": [
        {
          "output_type": "stream",
          "text": [
            "Rank                    0\n",
            "Genre                   0\n",
            "Description             0\n",
            "Director                0\n",
            "Actors                  0\n",
            "Year                    0\n",
            "Runtime (Minutes)       0\n",
            "Rating                  0\n",
            "Votes                   0\n",
            "Revenue (Millions)    128\n",
            "Metascore              64\n",
            "dtype: int64\n"
          ],
          "name": "stdout"
        }
      ]
    },
    {
      "cell_type": "code",
      "metadata": {
        "colab": {
          "base_uri": "https://localhost:8080/"
        },
        "id": "5GiEAVgjhAWu",
        "outputId": "93dff569-adb2-4149-9176-b12354f5a13e"
      },
      "source": [
        "# Use drop function to drop columns\n",
        "print(data.drop('Metascore', axis=1).head())"
      ],
      "execution_count": 135,
      "outputs": [
        {
          "output_type": "stream",
          "text": [
            "                         Rank  ... Revenue (Millions)\n",
            "Title                          ...                   \n",
            "Guardians of the Galaxy     1  ...             333.13\n",
            "Prometheus                  2  ...             126.46\n",
            "Split                       3  ...             138.12\n",
            "Sing                        4  ...             270.32\n",
            "Suicide Squad               5  ...             325.02\n",
            "\n",
            "[5 rows x 10 columns]\n"
          ],
          "name": "stdout"
        }
      ]
    },
    {
      "cell_type": "code",
      "metadata": {
        "colab": {
          "base_uri": "https://localhost:8080/"
        },
        "id": "m0l5W55Phikj",
        "outputId": "1f2209b3-3c50-4d24-85ba-4e685e9a770d"
      },
      "source": [
        "# Drops all rows containing missing data\n",
        "print(data.dropna())"
      ],
      "execution_count": 138,
      "outputs": [
        {
          "output_type": "stream",
          "text": [
            "                          Rank  ... Metascore\n",
            "Title                           ...          \n",
            "Guardians of the Galaxy      1  ...      76.0\n",
            "Prometheus                   2  ...      65.0\n",
            "Split                        3  ...      62.0\n",
            "Sing                         4  ...      59.0\n",
            "Suicide Squad                5  ...      40.0\n",
            "...                        ...  ...       ...\n",
            "Resident Evil: Afterlife   994  ...      37.0\n",
            "Project X                  995  ...      48.0\n",
            "Hostel: Part II            997  ...      46.0\n",
            "Step Up 2: The Streets     998  ...      50.0\n",
            "Nine Lives                1000  ...      11.0\n",
            "\n",
            "[838 rows x 11 columns]\n"
          ],
          "name": "stdout"
        }
      ]
    },
    {
      "cell_type": "code",
      "metadata": {
        "colab": {
          "base_uri": "https://localhost:8080/"
        },
        "id": "HtYWJAavhszQ",
        "outputId": "a363dab8-c5ff-4ce0-bc64-01d99ca21c34"
      },
      "source": [
        "# Drop all columns containing missing data\n",
        "print(data.dropna(axis=1))"
      ],
      "execution_count": 139,
      "outputs": [
        {
          "output_type": "stream",
          "text": [
            "                         Rank                     Genre  ... Rating   Votes\n",
            "Title                                                    ...               \n",
            "Guardians of the Galaxy     1   Action,Adventure,Sci-Fi  ...    8.1  757074\n",
            "Prometheus                  2  Adventure,Mystery,Sci-Fi  ...    7.0  485820\n",
            "Split                       3           Horror,Thriller  ...    7.3  157606\n",
            "Sing                        4   Animation,Comedy,Family  ...    7.2   60545\n",
            "Suicide Squad               5  Action,Adventure,Fantasy  ...    6.2  393727\n",
            "...                       ...                       ...  ...    ...     ...\n",
            "Secret in Their Eyes      996       Crime,Drama,Mystery  ...    6.2   27585\n",
            "Hostel: Part II           997                    Horror  ...    5.5   73152\n",
            "Step Up 2: The Streets    998       Drama,Music,Romance  ...    6.2   70699\n",
            "Search Party              999          Adventure,Comedy  ...    5.6    4881\n",
            "Nine Lives               1000     Comedy,Family,Fantasy  ...    5.3   12435\n",
            "\n",
            "[1000 rows x 9 columns]\n"
          ],
          "name": "stdout"
        }
      ]
    },
    {
      "cell_type": "code",
      "metadata": {
        "colab": {
          "base_uri": "https://localhost:8080/"
        },
        "id": "w_peVgTfiKjw",
        "outputId": "27d44899-62ea-463d-8e80-51e118dd7407"
      },
      "source": [
        "#minimum number of null value to be satisfied to drop\n",
        "print(data.dropna(axis=0, thresh=6))"
      ],
      "execution_count": 137,
      "outputs": [
        {
          "output_type": "stream",
          "text": [
            "                         Rank  ... Metascore\n",
            "Title                          ...          \n",
            "Guardians of the Galaxy     1  ...      76.0\n",
            "Prometheus                  2  ...      65.0\n",
            "Split                       3  ...      62.0\n",
            "Sing                        4  ...      59.0\n",
            "Suicide Squad               5  ...      40.0\n",
            "...                       ...  ...       ...\n",
            "Secret in Their Eyes      996  ...      45.0\n",
            "Hostel: Part II           997  ...      46.0\n",
            "Step Up 2: The Streets    998  ...      50.0\n",
            "Search Party              999  ...      22.0\n",
            "Nine Lives               1000  ...      11.0\n",
            "\n",
            "[1000 rows x 11 columns]\n"
          ],
          "name": "stdout"
        }
      ]
    },
    {
      "cell_type": "code",
      "metadata": {
        "colab": {
          "base_uri": "https://localhost:8080/"
        },
        "id": "xn921N1PiPcc",
        "outputId": "6f5d2428-1268-4d9d-a96f-6d32b91742b5"
      },
      "source": [
        "#Filling null value with mean in Revenue\n",
        "revenue_mean = data['Revenue (Millions)'].mean()\n",
        "print(\"The mean revenue is: \", revenue_mean)\n"
      ],
      "execution_count": 142,
      "outputs": [
        {
          "output_type": "stream",
          "text": [
            "The mean revenue is:  82.95637614678897\n"
          ],
          "name": "stdout"
        }
      ]
    },
    {
      "cell_type": "code",
      "metadata": {
        "id": "XGgAm3pgimoB"
      },
      "source": [
        "# We can fill the null values with this mean revenue\n",
        "data['Revenue (Millions)'].fillna(revenue_mean, inplace=True)"
      ],
      "execution_count": 163,
      "outputs": []
    },
    {
      "cell_type": "code",
      "metadata": {
        "colab": {
          "base_uri": "https://localhost:8080/"
        },
        "id": "chv4Sc7QiwsI",
        "outputId": "a37f96b3-5173-4ff2-964d-925d8c0aa448"
      },
      "source": [
        "#CHECK this after restarting \n",
        "print(data['Revenue (Millions)'].isnull().sum())"
      ],
      "execution_count": 172,
      "outputs": [
        {
          "output_type": "stream",
          "text": [
            "0\n"
          ],
          "name": "stdout"
        }
      ]
    },
    {
      "cell_type": "markdown",
      "metadata": {
        "id": "c9jsjKMSjtlc"
      },
      "source": [
        "# Apply( ) function"
      ]
    },
    {
      "cell_type": "code",
      "metadata": {
        "id": "BzwhFCu-jAnk"
      },
      "source": [
        "# Classify movies based on ratings\n",
        "def rating_group(rating):\n",
        "    if rating >= 7.5:\n",
        "        return 'Good'\n",
        "    elif rating >= 6.0:\n",
        "        return 'Average'\n",
        "    else:\n",
        "        return 'Bad'"
      ],
      "execution_count": 173,
      "outputs": []
    },
    {
      "cell_type": "code",
      "metadata": {
        "id": "4BtBHtzujwr_"
      },
      "source": [
        "# Lets apply this function on our movies data\n",
        "# creating a new variable in the dataset to hold the rating category\n",
        "data['Rating_category'] = data['Rating'].apply(rating_group)"
      ],
      "execution_count": 174,
      "outputs": []
    },
    {
      "cell_type": "code",
      "metadata": {
        "colab": {
          "base_uri": "https://localhost:8080/"
        },
        "id": "vly01nLsjyzO",
        "outputId": "3e7e1a99-a368-4da7-b213-6f3582b8ad9a"
      },
      "source": [
        "print(data['Rating_category'])"
      ],
      "execution_count": 176,
      "outputs": [
        {
          "output_type": "stream",
          "text": [
            "Title\n",
            "Guardians of the Galaxy       Good\n",
            "Prometheus                 Average\n",
            "Split                      Average\n",
            "Sing                       Average\n",
            "Suicide Squad              Average\n",
            "                            ...   \n",
            "Secret in Their Eyes       Average\n",
            "Hostel: Part II                Bad\n",
            "Step Up 2: The Streets     Average\n",
            "Search Party                   Bad\n",
            "Nine Lives                     Bad\n",
            "Name: Rating_category, Length: 1000, dtype: object\n"
          ],
          "name": "stdout"
        }
      ]
    }
  ]
}