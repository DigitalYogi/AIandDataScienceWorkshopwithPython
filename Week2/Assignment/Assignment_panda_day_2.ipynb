{
  "nbformat": 4,
  "nbformat_minor": 0,
  "metadata": {
    "colab": {
      "name": " Assignment panda day-2.ipynb",
      "provenance": [],
      "collapsed_sections": []
    },
    "kernelspec": {
      "name": "python3",
      "display_name": "Python 3"
    },
    "language_info": {
      "name": "python"
    }
  },
  "cells": [
    {
      "cell_type": "markdown",
      "metadata": {
        "id": "HyWHrNPRFa5K"
      },
      "source": [
        "#AI and Data Science Workshop with Python\n",
        "\n",
        "Assignment 02\n",
        "\n",
        "Pandas\n"
      ]
    },
    {
      "cell_type": "markdown",
      "metadata": {
        "id": "r8KIC9L8R3Yf"
      },
      "source": [
        "Dataset: iris.csv.\n",
        "\n",
        "Dataset Explanation: The Iris Dataset contains four features (length and width of sepals and petals) of 50 samples of three species of Iris (Iris setosa, Iris virginica and Iris versicolor). These measures were used to create a linear discriminant model to classify the species. The dataset is often used in data mining, classification and clustering examples and to test algorithms."
      ]
    },
    {
      "cell_type": "markdown",
      "metadata": {
        "id": "UkDFVjCUSieF"
      },
      "source": [
        "1- Write a Pandas code to read the dataset. like as the follow:\n"
      ]
    },
    {
      "cell_type": "markdown",
      "metadata": {
        "id": "FJ0ZcTFZTSG2"
      },
      "source": [
        "2- Write a code to show the data. The result should be as follow:\n",
        "\n",
        "\n",
        "\n",
        "```\n",
        "   sepal.length  sepal.width  petal.length  petal.width variety\n",
        "0           5.1          3.5           1.4          0.2  Setosa\n",
        "1           4.9          3.0           1.4          0.2  Setosa\n",
        "2           4.7          3.2           1.3          0.2  Setosa\n",
        "3           4.6          3.1           1.5          0.2  Setosa\n",
        "4           5.0          3.6           1.4          0.2  Setosa\n",
        "\n",
        "```"
      ]
    },
    {
      "cell_type": "markdown",
      "metadata": {
        "id": "ufeFYE7_W_w7"
      },
      "source": [
        "3- Write a code to show a statistical summary of the dataset. \n",
        "The result should be as follow:\n",
        "\n",
        "```\n",
        "\n",
        "sepal.length\tsepal.width\tpetal.length\tpetal.width\n",
        "count\t150.000000\t150.000000\t150.000000\t150.000000\n",
        "mean\t5.843333\t3.057333\t3.758000\t1.199333\n",
        "std\t0.828066\t0.435866\t1.765298\t0.762238\n",
        "min\t4.300000\t2.000000\t1.000000\t0.100000\n",
        "25%\t5.100000\t2.800000\t1.600000\t0.300000\n",
        "50%\t5.800000\t3.000000\t4.350000\t1.300000\n",
        "75%\t6.400000\t3.300000\t5.100000\t1.800000\n",
        "max\t7.900000\t4.400000\t6.900000\t2.500000\n",
        "```"
      ]
    },
    {
      "cell_type": "markdown",
      "metadata": {
        "id": "1z0NqIiB9aDD"
      },
      "source": [
        "4- Write a code to print the first three rows of the dataset.\n",
        "The output should be as follow:\n",
        "\n",
        "```\n",
        "   sepal.length  sepal.width  petal.length  petal.width variety\n",
        "0           5.1          3.5           1.4          0.2  Setosa\n",
        "1           4.9          3.0           1.4          0.2  Setosa\n",
        "2           4.7          3.2           1.3          0.2  Setosa\n",
        "```"
      ]
    },
    {
      "cell_type": "markdown",
      "metadata": {
        "id": "vRcldLIvGuHL"
      },
      "source": [
        "5- Write a code to print number of rows and columns of the dataset.\n",
        "The result can be like this:\n",
        "\n",
        "```\n",
        "Number of Rows: 150\n",
        "Number of Columns: 5\n",
        "```"
      ]
    },
    {
      "cell_type": "markdown",
      "metadata": {
        "id": "AiHckoFAHvxk"
      },
      "source": [
        "6- Write a code to sort the dataset based on `petal.width` value.\n",
        "\n",
        "The result should be like this:\n",
        "```\n",
        "     sepal.length  sepal.width  petal.length  petal.width    variety\n",
        "32            5.2          4.1           1.5          0.1     Setosa\n",
        "13            4.3          3.0           1.1          0.1     Setosa\n",
        "37            4.9          3.6           1.4          0.1     Setosa\n",
        "9             4.9          3.1           1.5          0.1     Setosa\n",
        "12            4.8          3.0           1.4          0.1     Setosa\n",
        "..            ...          ...           ...          ...        ...\n",
        "140           6.7          3.1           5.6          2.4  Virginica\n",
        "114           5.8          2.8           5.1          2.4  Virginica\n",
        "100           6.3          3.3           6.0          2.5  Virginica\n",
        "144           6.7          3.3           5.7          2.5  Virginica\n",
        "109           7.2          3.6           6.1          2.5  Virginica\n",
        "```"
      ]
    },
    {
      "cell_type": "markdown",
      "metadata": {
        "id": "LcgeARr1Nymt"
      },
      "source": [
        "7- Write a code to filter the data by this condition: `variety = Versicolor`\n",
        "\n"
      ]
    },
    {
      "cell_type": "markdown",
      "metadata": {
        "id": "ZLsA15hSRQeW"
      },
      "source": [
        "8- Write a code to change the `variety = Setosa` to `variety = NewValue`.\n",
        "The result can be as follow. You can use `replace()` function.\n",
        "\n",
        "```\n",
        "     sepal.length  sepal.width  petal.length  petal.width    variety\n",
        "0             5.1          3.5           1.4          0.2   NewValue\n",
        "1             4.9          3.0           1.4          0.2   NewValue\n",
        "2             4.7          3.2           1.3          0.2   NewValue\n",
        "3             4.6          3.1           1.5          0.2   NewValue\n",
        "4             5.0          3.6           1.4          0.2   NewValue\n",
        "..            ...          ...           ...          ...        ...\n",
        "145           6.7          3.0           5.2          2.3  Virginica\n",
        "146           6.3          2.5           5.0          1.9  Virginica\n",
        "147           6.5          3.0           5.2          2.0  Virginica\n",
        "148           6.2          3.4           5.4          2.3  Virginica\n",
        "149           5.9          3.0           5.1          1.8  Virginica\n",
        "```"
      ]
    }
  ]
}