{
  "nbformat": 4,
  "nbformat_minor": 0,
  "metadata": {
    "colab": {
      "name": "Assignment panda day-3.ipynb",
      "provenance": []
    },
    "kernelspec": {
      "name": "python3",
      "display_name": "Python 3"
    },
    "language_info": {
      "name": "python"
    }
  },
  "cells": [
    {
      "cell_type": "markdown",
      "metadata": {
        "id": "fFCUi4g1uVGQ"
      },
      "source": [
        "#AI and Data Science Workshop with Python\n",
        "\n",
        "Assignment 03\n",
        "\n",
        "Pandas"
      ]
    },
    {
      "cell_type": "markdown",
      "metadata": {
        "id": "TuVsfXpWuck-"
      },
      "source": [
        "1- Upload the xlsx file `example.xlsx` in your google drive and read the excel file using pandas. And show the data. \n",
        "To read an excel file you can use `pd.read_excel()`.\n",
        "The result can be as follow:\n",
        "```\n",
        "<bound method NDFrame.head of       Year  MSHA ID  ... Average Employees Labor Hours\n",
        "0     2013   103381  ...                10       22392\n",
        "1     2013   103404  ...                18       28447\n",
        "2     2013   100759  ...               183      474784\n",
        "3     2013   103246  ...                13       29193\n",
        "4     2013   103451  ...                27       46393\n",
        "...    ...      ...  ...               ...         ...\n",
        "1445  2013  1103254  ...                 4        8249\n",
        "1446  2013  1102636  ...                 4        1449\n",
        "1447  2013  4407233  ...                16       43684\n",
        "1448  2013  1518524  ...                 2         622\n",
        "1449  2013  1519685  ...                 3        1020\n",
        "```"
      ]
    },
    {
      "cell_type": "markdown",
      "metadata": {
        "id": "DYUW_0LN0bYC"
      },
      "source": [
        "2- Write a pandas code to get the datatype of the data.\n",
        "The result can be like this:\n",
        "\n",
        "```\n",
        "Year                          int64\n",
        "MSHA ID                       int64\n",
        "Mine Name                    object\n",
        "Mine State                   object\n",
        "Mine County                  object\n",
        "Mine Status                  object\n",
        "Mine Type                    object\n",
        "Company Type                 object\n",
        "Operation Type               object\n",
        "Operating Company            object\n",
        "Operating Company Address    object\n",
        "Union Code                   object\n",
        "Coal Supply Region           object\n",
        "Production (short tons)       int64\n",
        "Average Employees             int64\n",
        "Labor Hours                   int64\n",
        "dtype: object\n",
        "```\n",
        "---\n",
        "\n"
      ]
    },
    {
      "cell_type": "markdown",
      "metadata": {
        "id": "I40Ccth44TZl"
      },
      "source": [
        "3- Write a Pandas code to read the first three columns"
      ]
    },
    {
      "cell_type": "markdown",
      "metadata": {
        "id": "Srv6Zq-X5MGT"
      },
      "source": [
        "4- Write a Pandas code to calculate sum, mean, max, and min of the \"Production (short tons)\" column.\n",
        "The result can be like this:\n",
        "```\n",
        "Sum:  984841779\n",
        "Mean:  679201.2268965517\n",
        "Maximum:  111005549\n",
        "Minimum:  0\n",
        "```\n"
      ]
    },
    {
      "cell_type": "markdown",
      "metadata": {
        "id": "viwwgKRZCurX"
      },
      "source": [
        "5- Write a pandas code to print the last 5 rows"
      ]
    },
    {
      "cell_type": "markdown",
      "metadata": {
        "id": "w4pby59_DJHx"
      },
      "source": [
        "6- Write a pandas code to print a statistical summary of each column.\n",
        "The result can be like this:\n",
        "\n",
        "```\n",
        "         Year       MSHA ID  ...  Average Employees   Labor Hours\n",
        "count  1450.0  1.450000e+03  ...        1450.000000  1.450000e+03\n",
        "mean   2013.0  3.069954e+06  ...          55.445517  1.226971e+05\n",
        "std       0.0  1.425374e+06  ...         120.833899  2.726465e+05\n",
        "min    2013.0  1.003290e+05  ...           0.000000  3.500000e+01\n",
        "25%    2013.0  1.519166e+06  ...           6.000000  8.842750e+03\n",
        "50%    2013.0  3.608260e+06  ...          17.000000  3.375450e+04\n",
        "75%    2013.0  4.407279e+06  ...          47.750000  1.078175e+05\n",
        "max    2013.0  5.000030e+06  ...        1585.000000  3.206295e+06\n",
        "```"
      ]
    },
    {
      "cell_type": "markdown",
      "metadata": {
        "id": "R4nvpGLRDycq"
      },
      "source": [
        "7- Write a pandas code to print the first 3 rows of the dataset"
      ]
    },
    {
      "cell_type": "markdown",
      "metadata": {
        "id": "e5WkV-gfAC_w"
      },
      "source": [
        "8- Write a Pandas code to details a part of data that \"Average Employees\" > 20.\n",
        "The result can be like this:\n",
        "```\n",
        "\n",
        "      Year  MSHA ID  ... Average Employees Labor Hours\n",
        "2     2013   100759  ...               183      474784\n",
        "4     2013   103451  ...                27       46393\n",
        "5     2013   103433  ...                27       47195\n",
        "6     2013   100329  ...                59      144002\n",
        "7     2013   100851  ...               447     1001809\n",
        "...    ...      ...  ...               ...         ...\n",
        "1417  2013  4800086  ...               289      533884\n",
        "1418  2013  4800677  ...               182      368307\n",
        "1419  2013  4801180  ...               186      386879\n",
        "1420  2013  4801646  ...               278      661265\n",
        "1428  2013  3603561  ...                51      121332\n",
        "```"
      ]
    }
  ]
}