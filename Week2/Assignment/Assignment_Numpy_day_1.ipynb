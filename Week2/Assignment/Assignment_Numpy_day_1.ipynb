{
  "nbformat": 4,
  "nbformat_minor": 0,
  "metadata": {
    "colab": {
      "name": "Assignment Numpy day-1.ipynb",
      "provenance": []
    },
    "kernelspec": {
      "name": "python3",
      "display_name": "Python 3"
    },
    "language_info": {
      "name": "python"
    }
  },
  "cells": [
    {
      "cell_type": "markdown",
      "metadata": {
        "id": "WUjqhjl2MJsP"
      },
      "source": [
        "#AI and Data Science Workshop with Python\n",
        "Introduction to Numpy\n",
        "\n",
        "\n",
        "Assignment 01"
      ]
    },
    {
      "cell_type": "markdown",
      "metadata": {
        "id": "UUsSijrpMuic"
      },
      "source": [
        "\n",
        "1- Create a NumPy array and test whether any elements of the array are non-zero\n",
        "a sample output can be like this:\n",
        "```\n",
        "[1 2 3 4]\n",
        "True\n",
        "[0 1 2 3]\n",
        "False\n",
        "```"
      ]
    },
    {
      "cell_type": "markdown",
      "metadata": {
        "id": "2DHGa-Rhj1G-"
      },
      "source": [
        "2- Create a NumPy array of integer in range of 30 to 70\n",
        "the result can be as follow:\n",
        "```\n",
        "Array of the integers from 30 to70\n",
        "[30 31 32 33 34 35 36 37 38 39 40 41 42 43 44 45 46 47 48 49 50 51 52 53\n",
        " 54 55 56 57 58 59 60 61 62 63 64 65 66 67 68 69 70]\n",
        " ```\n"
      ]
    },
    {
      "cell_type": "markdown",
      "metadata": {
        "id": "QapxBIjjcuAS"
      },
      "source": [
        "3- Create two NumPy array with the same number of elements and compare them to see if their elements are equal. you can use `equal()` function\n",
        "\n",
        "A sample result can be as follow:\n",
        "Original numbers:\n",
        "```\n",
        "[ 12  43  56  14  67  -1 120 -12  60  10]\n",
        "[ 12.        43.        56.        14.        67.        -1.\n",
        " 120.       -12.        60.        10.000001]\n",
        "Comparison - equal:\n",
        "[ True  True  True  True  True  True  True  True  True False]\n",
        "```"
      ]
    },
    {
      "cell_type": "markdown",
      "metadata": {
        "id": "_WbEqu_ckWof"
      },
      "source": [
        "4- Write a NumPy program to create a 3X4 array and iterate over it to print the items"
      ]
    },
    {
      "cell_type": "markdown",
      "metadata": {
        "id": "LgzWSvAHmUVE"
      },
      "source": [
        "5- Using NumPy, create a 4x5 matrix filled with values from 1 to 20"
      ]
    },
    {
      "cell_type": "markdown",
      "metadata": {
        "id": "Q29xxMw9z7tw"
      },
      "source": [
        "6- We have created a matrix of size 5x4 as follow:"
      ]
    },
    {
      "cell_type": "code",
      "metadata": {
        "id": "6drPPEK3z6kJ"
      },
      "source": [
        "import numpy as np\n",
        "sizes = np.array(\n",
        "[[2,  8, 8, 3],\n",
        "[6,  13, 1, 6],\n",
        "[9,  5, 3, 7],\n",
        "[3,  22, 9, 2],\n",
        "[12, 7, 2, 9]])"
      ],
      "execution_count": null,
      "outputs": []
    },
    {
      "cell_type": "markdown",
      "metadata": {
        "id": "dS1kxD5z1ZBY"
      },
      "source": [
        "Write a NumPy code that retrieves the last column of sizes matrix:"
      ]
    },
    {
      "cell_type": "markdown",
      "metadata": {
        "id": "ueGQkIKq1pOi"
      },
      "source": [
        "Write a Numpy code that retrieves the following submatrix from `sizes`:\n",
        "\n",
        "```\n",
        "array([[13,  1],\n",
        "       [ 5,  3]])\n",
        "```"
      ]
    },
    {
      "cell_type": "markdown",
      "metadata": {
        "id": "2o5rFIkV8bEm"
      },
      "source": [
        "Write a NumPy program that in result create an array containing such items of the sizes matrix, which are greater than 10"
      ]
    }
  ]
}