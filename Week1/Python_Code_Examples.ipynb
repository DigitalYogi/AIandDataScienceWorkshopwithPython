{
  "nbformat": 4,
  "nbformat_minor": 0,
  "metadata": {
    "colab": {
      "name": "Python Code Examples.ipynb",
      "provenance": []
    },
    "kernelspec": {
      "name": "python3",
      "display_name": "Python 3"
    },
    "language_info": {
      "name": "python"
    }
  },
  "cells": [
    {
      "cell_type": "markdown",
      "metadata": {
        "id": "z5EJAnk1yGYo"
      },
      "source": [
        "## Drive Mounting"
      ]
    },
    {
      "cell_type": "code",
      "metadata": {
        "id": "FrbNlKAr0E9X",
        "colab": {
          "base_uri": "https://localhost:8080/"
        },
        "outputId": "2382e9b2-1f29-4a7d-c22c-b1ef96e61d3a"
      },
      "source": [
        "from google.colab import drive\n",
        "drive.mount('/content/drive')"
      ],
      "execution_count": null,
      "outputs": [
        {
          "output_type": "stream",
          "text": [
            "Mounted at /content/drive\n"
          ],
          "name": "stdout"
        }
      ]
    },
    {
      "cell_type": "markdown",
      "metadata": {
        "id": "tDaw_aSw9kHd"
      },
      "source": [
        "## Data Types"
      ]
    },
    {
      "cell_type": "code",
      "metadata": {
        "id": "7jRD2i5S3nJU",
        "colab": {
          "base_uri": "https://localhost:8080/"
        },
        "outputId": "5939e084-5d05-4ed7-abb4-c791c63e37ca"
      },
      "source": [
        "# Integers\n",
        "num1 = 10\n",
        "num2 = 100\n",
        "print(num1 + num2)"
      ],
      "execution_count": null,
      "outputs": [
        {
          "output_type": "stream",
          "text": [
            "110\n"
          ],
          "name": "stdout"
        }
      ]
    },
    {
      "cell_type": "code",
      "metadata": {
        "colab": {
          "base_uri": "https://localhost:8080/"
        },
        "id": "ITVutFNt-S5F",
        "outputId": "780c877a-032b-41bd-8d63-0337f70c05e1"
      },
      "source": [
        "# Float Numbers\n",
        "a = 10.5\n",
        "b = 8.9\n",
        "print(a - b)"
      ],
      "execution_count": null,
      "outputs": [
        {
          "output_type": "stream",
          "text": [
            "1.5999999999999996\n"
          ],
          "name": "stdout"
        }
      ]
    },
    {
      "cell_type": "code",
      "metadata": {
        "colab": {
          "base_uri": "https://localhost:8080/"
        },
        "id": "l4EkAwjt-YLL",
        "outputId": "c8b6e337-6695-419c-b8b9-717dc0ba6c2e"
      },
      "source": [
        "# Complex Numbers\n",
        "x = 3 + 4j\n",
        "y = 9 + 8j\n",
        "print(y - x)"
      ],
      "execution_count": null,
      "outputs": [
        {
          "output_type": "stream",
          "text": [
            "(6+4j)\n"
          ],
          "name": "stdout"
        }
      ]
    },
    {
      "cell_type": "code",
      "metadata": {
        "colab": {
          "base_uri": "https://localhost:8080/"
        },
        "id": "_mLW5MT9-mAp",
        "outputId": "5c697fee-0969-4c20-d8a8-18dad7b2fe4f"
      },
      "source": [
        "# Finding the Data Type of a Number\n",
        "\n",
        "# int\n",
        "num1 = 100\n",
        "print(\"Type of num1: \", type(num1))\n",
        "\n",
        "# float\n",
        "num2 = 10.99\n",
        "print(\"Type of num2: \", type(num2))\n",
        "\n",
        "# complex numbers\n",
        "num3 = 3 + 4j\n",
        "print(\"Type of num3: \", type(num3))"
      ],
      "execution_count": null,
      "outputs": [
        {
          "output_type": "stream",
          "text": [
            "Type of num1:  <class 'int'>\n",
            "Type of num2:  <class 'float'>\n",
            "Type of num3:  <class 'complex'>\n"
          ],
          "name": "stdout"
        }
      ]
    },
    {
      "cell_type": "code",
      "metadata": {
        "colab": {
          "base_uri": "https://localhost:8080/"
        },
        "id": "VKte4JfP_7uo",
        "outputId": "a84f44d0-ed01-44c5-c086-fce34a9b0d99"
      },
      "source": [
        "# Checks whether a number belongs to a particular data type and returns true or false based on the result.\n",
        "\n",
        "num = 100\n",
        "# true because num is an integer\n",
        "print(isinstance(num, int))\n",
        "\n",
        "# false because num is not a float\n",
        "print(isinstance(num, float))\n",
        "\n",
        "# false because num is not a complex number\n",
        "print(isinstance(num, complex))"
      ],
      "execution_count": null,
      "outputs": [
        {
          "output_type": "stream",
          "text": [
            "True\n",
            "False\n",
            "False\n"
          ],
          "name": "stdout"
        }
      ]
    },
    {
      "cell_type": "markdown",
      "metadata": {
        "id": "LTdNVvZO0ZSH"
      },
      "source": [
        "## Variables"
      ]
    },
    {
      "cell_type": "code",
      "metadata": {
        "colab": {
          "base_uri": "https://localhost:8080/"
        },
        "id": "SRCD1Qum0Xm2",
        "outputId": "267ee891-8b85-4702-ea5b-f6642078f8b1"
      },
      "source": [
        "# Assignment\n",
        "num = 100\n",
        "string = \"Gonzalez\"\n",
        "print(num)\n",
        "print(string)"
      ],
      "execution_count": null,
      "outputs": [
        {
          "output_type": "stream",
          "text": [
            "100\n",
            "Gonzalez\n"
          ],
          "name": "stdout"
        }
      ]
    },
    {
      "cell_type": "code",
      "metadata": {
        "id": "75eXexBi1GTT"
      },
      "source": [
        "# Multiple Assignment\n",
        "x = y = z = 99\n",
        "print(x)\n",
        "print(y)\n",
        "print(z)"
      ],
      "execution_count": null,
      "outputs": []
    },
    {
      "cell_type": "code",
      "metadata": {
        "id": "MGkzyI1W1lnk"
      },
      "source": [
        "# Multiple Assignment\n",
        "a, b, c = 5, 6, 7\n",
        "print(a)\n",
        "print(b)\n",
        "print(c)"
      ],
      "execution_count": null,
      "outputs": []
    },
    {
      "cell_type": "code",
      "metadata": {
        "id": "vaCpGr_t15rC"
      },
      "source": [
        "# Swaping\n",
        "x, y = 6, 3\n",
        "x, y = y, x\n",
        "print(x)\n",
        "print(y)"
      ],
      "execution_count": null,
      "outputs": []
    },
    {
      "cell_type": "code",
      "metadata": {
        "colab": {
          "base_uri": "https://localhost:8080/",
          "height": 209
        },
        "id": "nCE1E8ie2Y_h",
        "outputId": "bbdc66a2-79d0-4388-ad35-cc3102e47542"
      },
      "source": [
        "# Accessing Non-Existent Name\n",
        "x = 10\n",
        "y = x + unnamedVariable"
      ],
      "execution_count": null,
      "outputs": [
        {
          "output_type": "error",
          "ename": "NameError",
          "evalue": "ignored",
          "traceback": [
            "\u001b[0;31m---------------------------------------------------------------------------\u001b[0m",
            "\u001b[0;31mNameError\u001b[0m                                 Traceback (most recent call last)",
            "\u001b[0;32m<ipython-input-86-34c7ff7e17d7>\u001b[0m in \u001b[0;36m<module>\u001b[0;34m()\u001b[0m\n\u001b[1;32m      1\u001b[0m \u001b[0;31m# Accessing Non-Existent Name\u001b[0m\u001b[0;34m\u001b[0m\u001b[0;34m\u001b[0m\u001b[0;34m\u001b[0m\u001b[0m\n\u001b[1;32m      2\u001b[0m \u001b[0mx\u001b[0m \u001b[0;34m=\u001b[0m \u001b[0;36m10\u001b[0m\u001b[0;34m\u001b[0m\u001b[0;34m\u001b[0m\u001b[0m\n\u001b[0;32m----> 3\u001b[0;31m \u001b[0my\u001b[0m \u001b[0;34m=\u001b[0m \u001b[0mx\u001b[0m \u001b[0;34m+\u001b[0m \u001b[0munnamedVariable\u001b[0m\u001b[0;34m\u001b[0m\u001b[0;34m\u001b[0m\u001b[0m\n\u001b[0m",
            "\u001b[0;31mNameError\u001b[0m: name 'unnamedVariable' is not defined"
          ]
        }
      ]
    },
    {
      "cell_type": "markdown",
      "metadata": {
        "id": "di_7yqhABNfF"
      },
      "source": [
        "## Input/Output"
      ]
    },
    {
      "cell_type": "code",
      "metadata": {
        "colab": {
          "base_uri": "https://localhost:8080/"
        },
        "id": "WgX8zxKQBS5C",
        "outputId": "42d78f8b-1127-41da-a517-e5173ede954e"
      },
      "source": [
        "# Input\n",
        "num1 = int(input(\"Enter number 1: \"))\n",
        "num2 = int(input(\"Enter number 2: \"))\n",
        "\n",
        "# Process Input\n",
        "mult = num1 * num2\n",
        "div = num1 / num2\n",
        "\n",
        "# Output\n",
        "print(num1, \"*\", num2, \"is\", mult)\n",
        "print(\"%d / %d is %d\" % (num1, num2, div))"
      ],
      "execution_count": null,
      "outputs": [
        {
          "output_type": "stream",
          "text": [
            "Enter number 1: 10\n",
            "Enter number 2: 5\n",
            "10 * 5 is 50\n",
            "10 / 5 is 2\n"
          ],
          "name": "stdout"
        }
      ]
    },
    {
      "cell_type": "markdown",
      "metadata": {
        "id": "HE9VSWimnlHA"
      },
      "source": [
        "## Arithmetic Operations"
      ]
    },
    {
      "cell_type": "code",
      "metadata": {
        "colab": {
          "base_uri": "https://localhost:8080/"
        },
        "id": "RkxjtX56nujS",
        "outputId": "d20019b9-539b-4831-d123-d357c1da5ad3"
      },
      "source": [
        "# Precedence \n",
        "num1 = 10 ** 2 + 1 / 5\n",
        "num2 = 10 ** (2 + 1) / 5\n",
        "num3 = 10 ** (2 + 1 / 5)\n",
        "num4 = 10 ** (2 + 1 // 5)\n",
        "print(num1)\n",
        "print(num2)\n",
        "print(num3)\n",
        "print(num4)"
      ],
      "execution_count": null,
      "outputs": [
        {
          "output_type": "stream",
          "text": [
            "100.2\n",
            "200.0\n",
            "158.48931924611142\n",
            "100\n"
          ],
          "name": "stdout"
        }
      ]
    },
    {
      "cell_type": "markdown",
      "metadata": {
        "id": "ZPj9fuchtStS"
      },
      "source": [
        "## Flow Control: Conditional Statements"
      ]
    },
    {
      "cell_type": "markdown",
      "metadata": {
        "id": "f_mpEQSuvYn-"
      },
      "source": [
        "####   if Statement\n"
      ]
    },
    {
      "cell_type": "code",
      "metadata": {
        "colab": {
          "base_uri": "https://localhost:8080/"
        },
        "id": "qj8B0bvU2u3i",
        "outputId": "b155f426-6134-4cf8-f603-8c221eea4655"
      },
      "source": [
        "# Example\n",
        "value = False\n",
        "if value:\n",
        "   print(\"Got a true expression value \",value)\n",
        "else:\n",
        "   print(\"Got a false expression value \",value)"
      ],
      "execution_count": null,
      "outputs": [
        {
          "output_type": "stream",
          "text": [
            "Got a false expression value  False\n"
          ],
          "name": "stdout"
        }
      ]
    },
    {
      "cell_type": "code",
      "metadata": {
        "colab": {
          "base_uri": "https://localhost:8080/"
        },
        "id": "Yvn1PUAct9WR",
        "outputId": "f9d8cecc-50b6-4c05-d9f8-6b677f6ec2f4"
      },
      "source": [
        "# Validating the value of a variable\n",
        "flag = True\n",
        "if flag == True:\n",
        "    print(\"Welcome\")\n",
        "    print(\"To\")\n",
        "    print(\"ITESM 2020 Training\")"
      ],
      "execution_count": null,
      "outputs": [
        {
          "output_type": "stream",
          "text": [
            "Welcome\n",
            "To\n",
            "ITESM 2020 Training\n"
          ],
          "name": "stdout"
        }
      ]
    },
    {
      "cell_type": "code",
      "metadata": {
        "colab": {
          "base_uri": "https://localhost:8080/"
        },
        "id": "lHArng19uWwk",
        "outputId": "c97924a9-b387-498c-867d-19f7635e9b97"
      },
      "source": [
        "# We can obtain the same result using:\n",
        "flag = True\n",
        "if flag:\n",
        "    print(\"Welcome\")\n",
        "    print(\"To\")\n",
        "    print(\"ITESM 2020 Training\")\n",
        "\n"
      ],
      "execution_count": null,
      "outputs": [
        {
          "output_type": "stream",
          "text": [
            "Welcome\n",
            "To\n",
            "ITESM 2020 Training\n"
          ],
          "name": "stdout"
        }
      ]
    },
    {
      "cell_type": "code",
      "metadata": {
        "id": "rQP4hUFNuXSC"
      },
      "source": [
        "# Validating if the variable is false\n",
        "flag = False\n",
        "if flag:\n",
        "    print(\"You Guys\")\n",
        "    print(\"are\")\n",
        "    print(\"Awesome\")"
      ],
      "execution_count": null,
      "outputs": []
    },
    {
      "cell_type": "code",
      "metadata": {
        "colab": {
          "base_uri": "https://localhost:8080/"
        },
        "id": "PSFealbDuXb7",
        "outputId": "9225b995-c554-4ced-8214-d1dbf274c0ce"
      },
      "source": [
        "# Example with numerical Values\n",
        "num = 100\n",
        "if num < 200:\n",
        "    print(\"num is less than 200\")"
      ],
      "execution_count": null,
      "outputs": [
        {
          "output_type": "stream",
          "text": [
            "num is less than 200\n"
          ],
          "name": "stdout"
        }
      ]
    },
    {
      "cell_type": "markdown",
      "metadata": {
        "id": "QYS3mUN0wDDA"
      },
      "source": [
        "#### if-else Statement"
      ]
    },
    {
      "cell_type": "code",
      "metadata": {
        "colab": {
          "base_uri": "https://localhost:8080/"
        },
        "id": "INsn55TQwIFJ",
        "outputId": "0a9ff9c8-de03-4820-bd9e-ad056ccb6720"
      },
      "source": [
        "# Example:\n",
        "num = 22\n",
        "if num % 2 == 0:\n",
        "    print(\"Even Number\")\n",
        "else:\n",
        "    print(\"Odd Number\")"
      ],
      "execution_count": null,
      "outputs": [
        {
          "output_type": "stream",
          "text": [
            "Even Number\n"
          ],
          "name": "stdout"
        }
      ]
    },
    {
      "cell_type": "markdown",
      "metadata": {
        "id": "YuSLx1Vswb7v"
      },
      "source": [
        "#### if-elif-else statement"
      ]
    },
    {
      "cell_type": "code",
      "metadata": {
        "colab": {
          "base_uri": "https://localhost:8080/"
        },
        "id": "G3CMvGbiwfe5",
        "outputId": "2e1b0a3d-d0fb-4316-8677-36273abb84ed"
      },
      "source": [
        "# Example:\n",
        "num = 1122\n",
        "if 9 < num < 99:\n",
        "    print(\"Two digit number\")\n",
        "elif 99 < num < 999:\n",
        "    print(\"Three digit number\")\n",
        "elif 999 < num < 9999:\n",
        "    print(\"Four digit number\")\n",
        "else:\n",
        "    print(\"number is <= 9 or >= 9999\")"
      ],
      "execution_count": null,
      "outputs": [
        {
          "output_type": "stream",
          "text": [
            "Four digit number\n"
          ],
          "name": "stdout"
        }
      ]
    },
    {
      "cell_type": "code",
      "metadata": {
        "colab": {
          "base_uri": "https://localhost:8080/"
        },
        "id": "o7K4y8553Enh",
        "outputId": "ed9e85ae-7f26-4b6b-e9e4-e248f3d7bf1d"
      },
      "source": [
        "# Example:\n",
        "value = 101\n",
        "if value == 200:\n",
        "   print(\"value is 200\")\n",
        "elif value == 150:\n",
        "   print(\"value is 150\")\n",
        "elif value == 100:\n",
        "   print(\"value is 100\")\n",
        "else:\n",
        "   print(\"value is not (100,150,200)\")\n",
        "print(\"End!\")"
      ],
      "execution_count": null,
      "outputs": [
        {
          "output_type": "stream",
          "text": [
            "value is not (100,150,200)\n",
            "End!\n"
          ],
          "name": "stdout"
        }
      ]
    },
    {
      "cell_type": "markdown",
      "metadata": {
        "id": "byHD0Rsfx7Sf"
      },
      "source": [
        "## Control Flow: Loops"
      ]
    },
    {
      "cell_type": "markdown",
      "metadata": {
        "id": "Gg-948jKzZDC"
      },
      "source": [
        "#### for loops"
      ]
    },
    {
      "cell_type": "code",
      "metadata": {
        "colab": {
          "base_uri": "https://localhost:8080/"
        },
        "id": "v4-L9XrK3ja5",
        "outputId": "0bb2c02a-eccf-4618-9c00-edbfb7bac921"
      },
      "source": [
        "# Example:\n",
        "fruits = ['banana', 'apple',  'mango']\n",
        "for fruit in fruits:        \n",
        "   print(fruit)"
      ],
      "execution_count": null,
      "outputs": [
        {
          "output_type": "stream",
          "text": [
            "banana\n",
            "apple\n",
            "mango\n"
          ],
          "name": "stdout"
        }
      ]
    },
    {
      "cell_type": "code",
      "metadata": {
        "colab": {
          "base_uri": "https://localhost:8080/"
        },
        "id": "Ibt1ye_p3cBy",
        "outputId": "6f3b614e-f419-4f14-da9c-7cb055ff46ec"
      },
      "source": [
        "# Example:\n",
        "fruits = ['banana', 'apple',  'mango']\n",
        "for index in range(len(fruits)):\n",
        "   print(fruits[index])"
      ],
      "execution_count": null,
      "outputs": [
        {
          "output_type": "stream",
          "text": [
            "banana\n",
            "apple\n",
            "mango\n"
          ],
          "name": "stdout"
        }
      ]
    },
    {
      "cell_type": "code",
      "metadata": {
        "colab": {
          "base_uri": "https://localhost:8080/"
        },
        "id": "UXkLB2cayjEU",
        "outputId": "884416d5-21c5-47c7-a94a-4d279b3fa230"
      },
      "source": [
        "# Program to print squares of all numbers present in a list\n",
        "\n",
        "# List of integer numbers\n",
        "numbers = [1, 2, 4, 6, 11, 20]\n",
        "\n",
        "# variable to store the square of each num temporary\n",
        "sq = 0\n",
        "\n",
        "# iterating over the given list\n",
        "for val in numbers:\n",
        "    # calculating square of each number\n",
        "    sq = val * val\n",
        "    # displaying the squares\n",
        "    print(sq)"
      ],
      "execution_count": null,
      "outputs": [
        {
          "output_type": "stream",
          "text": [
            "1\n",
            "4\n",
            "16\n",
            "36\n",
            "121\n",
            "400\n"
          ],
          "name": "stdout"
        }
      ]
    },
    {
      "cell_type": "code",
      "metadata": {
        "colab": {
          "base_uri": "https://localhost:8080/"
        },
        "id": "Yp1HT6RPyrK3",
        "outputId": "7800d835-bdd7-4808-eeb2-cce32014adcc"
      },
      "source": [
        "# Using the range function in a for loop:\n",
        "\n",
        "# Program to print the sum of first 5 natural numbers\n",
        "\n",
        "# variable to store the sum\n",
        "sum = 0\n",
        "\n",
        "# iterating over natural numbers using range()\n",
        "for val in range(1, 6):\n",
        "    # calculating sum\n",
        "    sum = sum + val\n",
        "\n",
        "# displaying sum of first 5 natural numbers\n",
        "print(sum)"
      ],
      "execution_count": null,
      "outputs": [
        {
          "output_type": "stream",
          "text": [
            "15\n"
          ],
          "name": "stdout"
        }
      ]
    },
    {
      "cell_type": "code",
      "metadata": {
        "colab": {
          "base_uri": "https://localhost:8080/"
        },
        "id": "BAAArEFPy5Dp",
        "outputId": "dee5ef11-aa9b-4173-ec9f-1d0b1cb02116"
      },
      "source": [
        "# For loop with else block\n",
        "\n",
        "# The else block will only execute once the loop block has completed\n",
        "for val in range(5):\n",
        "\tprint(val)\n",
        "else:\n",
        "\tprint(\"The loop has completed execution\")"
      ],
      "execution_count": null,
      "outputs": [
        {
          "output_type": "stream",
          "text": [
            "0\n",
            "1\n",
            "2\n",
            "3\n",
            "4\n",
            "The loop has completed execution\n"
          ],
          "name": "stdout"
        }
      ]
    },
    {
      "cell_type": "code",
      "metadata": {
        "colab": {
          "base_uri": "https://localhost:8080/"
        },
        "id": "i_R7X--qy_vb",
        "outputId": "181d20f0-3b25-4459-d32c-6b234c32408b"
      },
      "source": [
        "# Nested for loop: A loop within a loop\n",
        "for num1 in range(3):\n",
        "\tfor num2 in range(10, 14):\n",
        "\t\tprint(num1, \",\", num2)"
      ],
      "execution_count": null,
      "outputs": [
        {
          "output_type": "stream",
          "text": [
            "0 , 10\n",
            "0 , 11\n",
            "0 , 12\n",
            "0 , 13\n",
            "1 , 10\n",
            "1 , 11\n",
            "1 , 12\n",
            "1 , 13\n",
            "2 , 10\n",
            "2 , 11\n",
            "2 , 12\n",
            "2 , 13\n"
          ],
          "name": "stdout"
        }
      ]
    },
    {
      "cell_type": "markdown",
      "metadata": {
        "id": "zFbAN5i6zbNY"
      },
      "source": [
        "#### while loops"
      ]
    },
    {
      "cell_type": "code",
      "metadata": {
        "id": "gSzA-U5M3xhD",
        "colab": {
          "base_uri": "https://localhost:8080/"
        },
        "outputId": "379cdf31-a041-464d-eda3-85d0920e79f2"
      },
      "source": [
        "# Example:\n",
        "\n",
        "count = 0\n",
        "while (count < 9):\n",
        "   print(\"The count is:\", count)\n",
        "   count = count + 1"
      ],
      "execution_count": null,
      "outputs": [
        {
          "output_type": "stream",
          "text": [
            "The count is: 0\n",
            "The count is: 1\n",
            "The count is: 2\n",
            "The count is: 3\n",
            "The count is: 4\n",
            "The count is: 5\n",
            "The count is: 6\n",
            "The count is: 7\n",
            "The count is: 8\n"
          ],
          "name": "stdout"
        }
      ]
    },
    {
      "cell_type": "code",
      "metadata": {
        "colab": {
          "base_uri": "https://localhost:8080/"
        },
        "id": "-LemMsZlzlA8",
        "outputId": "35c7c14f-1fa0-44e9-a09d-3b837dae4a4d"
      },
      "source": [
        "# Example:\n",
        "num = 1\n",
        "\n",
        "# loop will repeat itself as long as num < 10 remains true\n",
        "while num < 10:\n",
        "    print(num)\n",
        "    #incrementing the value of num\n",
        "    num = num + 3"
      ],
      "execution_count": null,
      "outputs": [
        {
          "output_type": "stream",
          "text": [
            "1\n",
            "4\n",
            "7\n"
          ],
          "name": "stdout"
        }
      ]
    },
    {
      "cell_type": "code",
      "metadata": {
        "id": "islwpvTT0seA"
      },
      "source": [
        "# Common Error - Infinite while loop\n",
        "while True:\n",
        "   print(\"hello\")"
      ],
      "execution_count": null,
      "outputs": []
    },
    {
      "cell_type": "code",
      "metadata": {
        "id": "tBn14WSw0uja"
      },
      "source": [
        "# Common Error - Infinite while loop\n",
        "num = 1\n",
        "while num < 5:\n",
        "   print(num)"
      ],
      "execution_count": null,
      "outputs": []
    },
    {
      "cell_type": "code",
      "metadata": {
        "colab": {
          "base_uri": "https://localhost:8080/"
        },
        "id": "I9gV_EdV036j",
        "outputId": "dc829fbc-2518-44dd-d5ad-379c76688527"
      },
      "source": [
        "# Nested while loop - A while loop within a while loop\n",
        "i = 1\n",
        "j = 5\n",
        "while i < 4:\n",
        "    while j < 8:\n",
        "        print(i, \",\", j)\n",
        "        j = j + 1\n",
        "        i = i + 1"
      ],
      "execution_count": null,
      "outputs": [
        {
          "output_type": "stream",
          "text": [
            "1 , 5\n",
            "2 , 6\n",
            "3 , 7\n"
          ],
          "name": "stdout"
        }
      ]
    },
    {
      "cell_type": "code",
      "metadata": {
        "colab": {
          "base_uri": "https://localhost:8080/"
        },
        "id": "j6F65FEQ077r",
        "outputId": "4f36aca7-68b6-4116-fb72-870d846c7b12"
      },
      "source": [
        "# While loop with else block\n",
        "\n",
        "# We can have a ‘else’ block associated with while loop. The ‘else’ block is optional. It executes only after the loop finished execution.\n",
        "num = 10\n",
        "while num > 6:\n",
        "   print(num)\n",
        "   num = num - 1\n",
        "else:\n",
        "   print(\"loop is finished\")"
      ],
      "execution_count": null,
      "outputs": [
        {
          "output_type": "stream",
          "text": [
            "10\n",
            "9\n",
            "8\n",
            "7\n",
            "loop is finished\n"
          ],
          "name": "stdout"
        }
      ]
    },
    {
      "cell_type": "markdown",
      "metadata": {
        "id": "9QJbUBce1FlO"
      },
      "source": [
        "#### break, continue, and pass statements"
      ]
    },
    {
      "cell_type": "code",
      "metadata": {
        "colab": {
          "base_uri": "https://localhost:8080/"
        },
        "id": "d4LmlGdD1Um1",
        "outputId": "b4895cbd-403b-40a8-a61c-1fdd42b923ac"
      },
      "source": [
        "# break\n",
        "\n",
        "# In this example, we are searching a number ’88’ in the given list of numbers. \n",
        "# The requirement is to display all the numbers till the number ’88’ is found and when it is found, \n",
        "# terminate the loop and do not display the rest of the numbers.\n",
        "\n",
        "# program to display all the elements before number 88\n",
        "for num in [11, 9, 88, 10, 90, 3, 19]:\n",
        "   print(num)\n",
        "   if(num == 88):\n",
        "\t   print(\"The number 88 is found\")\n",
        "\t   print(\"Terminating the loop\")\n",
        "\t   break"
      ],
      "execution_count": null,
      "outputs": [
        {
          "output_type": "stream",
          "text": [
            "11\n",
            "9\n",
            "88\n",
            "The number 88 is found\n",
            "Terminating the loop\n"
          ],
          "name": "stdout"
        }
      ]
    },
    {
      "cell_type": "code",
      "metadata": {
        "colab": {
          "base_uri": "https://localhost:8080/"
        },
        "id": "FX3-KD-n1t4Y",
        "outputId": "de15fb26-ba92-4850-8633-9da669296832"
      },
      "source": [
        "# continue\n",
        "\n",
        "# program to display only odd numbers\n",
        "for num in [20, 11, 9, 66, 4, 89, 44]:\n",
        "    # Skipping the iteration when number is even\n",
        "    if num % 2 == 0:\n",
        "        continue\n",
        "    # This statement will be skipped for all even numbers\n",
        "    print(num)"
      ],
      "execution_count": null,
      "outputs": [
        {
          "output_type": "stream",
          "text": [
            "11\n",
            "9\n",
            "89\n"
          ],
          "name": "stdout"
        }
      ]
    },
    {
      "cell_type": "code",
      "metadata": {
        "colab": {
          "base_uri": "https://localhost:8080/"
        },
        "id": "r_WFF1pF11Ii",
        "outputId": "cdb62cd0-4df4-463f-c1e6-fcf1b7f8ce4f"
      },
      "source": [
        "# pass\n",
        "\n",
        "for num in [20, 11, 9, 66, 4, 89, 44]:\n",
        "    if num % 2 == 0:\n",
        "        pass\n",
        "    else:\n",
        "        print(num)"
      ],
      "execution_count": null,
      "outputs": [
        {
          "output_type": "stream",
          "text": [
            "11\n",
            "9\n",
            "89\n"
          ],
          "name": "stdout"
        }
      ]
    },
    {
      "cell_type": "markdown",
      "metadata": {
        "id": "mPzh24AGolok"
      },
      "source": [
        "## List"
      ]
    },
    {
      "cell_type": "code",
      "metadata": {
        "colab": {
          "base_uri": "https://localhost:8080/"
        },
        "id": "etyBSK7brX4b",
        "outputId": "7202e830-7674-45c1-9b37-68d1c20aa1a0"
      },
      "source": [
        "# Creating a List\n",
        "\n",
        "# To create a list all you have to do is to place the items inside a square bracket [] separated by comma ,.\n",
        "\n",
        "# list of floats\n",
        "num_list = [11.22, 9.9, 78.34, 12.0]\n",
        "\n",
        "# list of int, float and strings\n",
        "mix_list = [1.13, 2, 5, 'itesm', 100, 'hi']\n",
        "\n",
        "# an empty list\n",
        "nodata_list = []\n",
        "\n",
        "# Printing a List\n",
        "print(num_list)\n",
        "print(mix_list)\n",
        "print(nodata_list)"
      ],
      "execution_count": null,
      "outputs": [
        {
          "output_type": "stream",
          "text": [
            "[11.22, 9.9, 78.34, 12.0]\n",
            "[1.13, 2, 5, 'itesm', 100, 'hi']\n",
            "[]\n"
          ],
          "name": "stdout"
        }
      ]
    },
    {
      "cell_type": "code",
      "metadata": {
        "colab": {
          "base_uri": "https://localhost:8080/"
        },
        "id": "Ns2yMQ5WrqLz",
        "outputId": "227aded6-c42f-4a66-c097-8b30d6b13423"
      },
      "source": [
        "# Check the number of elements for each list\n",
        "print(len(num_list))\n",
        "print(len(mix_list))\n",
        "print(len(nodata_list))"
      ],
      "execution_count": null,
      "outputs": [
        {
          "output_type": "stream",
          "text": [
            "4\n",
            "6\n",
            "0\n"
          ],
          "name": "stdout"
        }
      ]
    },
    {
      "cell_type": "code",
      "metadata": {
        "colab": {
          "base_uri": "https://localhost:8080/"
        },
        "id": "emWmlQHmrp6t",
        "outputId": "453cc3c7-b7a1-49a9-c098-3235208608c8"
      },
      "source": [
        "# Accesing the items of a list\n",
        "\n",
        "# a list of numbers\n",
        "numbers = [11, 22, 33, 100, 200, 300]\n",
        "\n",
        "# prints 11\n",
        "print(numbers[0])\n",
        "\n",
        "# prints 300\n",
        "print(numbers[5])\n",
        "\n",
        "# prints 22\n",
        "print(numbers[1])"
      ],
      "execution_count": null,
      "outputs": [
        {
          "output_type": "stream",
          "text": [
            "11\n",
            "300\n",
            "22\n"
          ],
          "name": "stdout"
        }
      ]
    },
    {
      "cell_type": "code",
      "metadata": {
        "colab": {
          "base_uri": "https://localhost:8080/",
          "height": 209
        },
        "id": "wckn7f51rqZE",
        "outputId": "6b759e9c-d71f-420d-f362-018f46792dea"
      },
      "source": [
        "# Common Errors - Using a float number to access an Index\n",
        "\n",
        "# a list of numbers\n",
        "numbers = [11, 22, 33, 100, 200, 300]\n",
        "\n",
        "# error\n",
        "print(numbers[1.0])"
      ],
      "execution_count": null,
      "outputs": [
        {
          "output_type": "error",
          "ename": "TypeError",
          "evalue": "ignored",
          "traceback": [
            "\u001b[0;31m---------------------------------------------------------------------------\u001b[0m",
            "\u001b[0;31mTypeError\u001b[0m                                 Traceback (most recent call last)",
            "\u001b[0;32m<ipython-input-22-5584216ded87>\u001b[0m in \u001b[0;36m<module>\u001b[0;34m()\u001b[0m\n\u001b[1;32m      5\u001b[0m \u001b[0;34m\u001b[0m\u001b[0m\n\u001b[1;32m      6\u001b[0m \u001b[0;31m# error\u001b[0m\u001b[0;34m\u001b[0m\u001b[0;34m\u001b[0m\u001b[0;34m\u001b[0m\u001b[0m\n\u001b[0;32m----> 7\u001b[0;31m \u001b[0mprint\u001b[0m\u001b[0;34m(\u001b[0m\u001b[0mnumbers\u001b[0m\u001b[0;34m[\u001b[0m\u001b[0;36m1.0\u001b[0m\u001b[0;34m]\u001b[0m\u001b[0;34m)\u001b[0m\u001b[0;34m\u001b[0m\u001b[0;34m\u001b[0m\u001b[0m\n\u001b[0m",
            "\u001b[0;31mTypeError\u001b[0m: list indices must be integers or slices, not float"
          ]
        }
      ]
    },
    {
      "cell_type": "code",
      "metadata": {
        "colab": {
          "base_uri": "https://localhost:8080/",
          "height": 209
        },
        "id": "PS2HC-5VsbXy",
        "outputId": "c650a76a-e992-4740-b5cf-3cff4eb400d1"
      },
      "source": [
        "# Common Errors - Accessing an index out of range\n",
        "\n",
        "# a list of numbers\n",
        "numbers = [11, 22, 33, 100, 200, 300]\n",
        "\n",
        "# error\n",
        "print(numbers[6])"
      ],
      "execution_count": null,
      "outputs": [
        {
          "output_type": "error",
          "ename": "IndexError",
          "evalue": "ignored",
          "traceback": [
            "\u001b[0;31m---------------------------------------------------------------------------\u001b[0m",
            "\u001b[0;31mIndexError\u001b[0m                                Traceback (most recent call last)",
            "\u001b[0;32m<ipython-input-23-3c0c87778134>\u001b[0m in \u001b[0;36m<module>\u001b[0;34m()\u001b[0m\n\u001b[1;32m      5\u001b[0m \u001b[0;34m\u001b[0m\u001b[0m\n\u001b[1;32m      6\u001b[0m \u001b[0;31m# error\u001b[0m\u001b[0;34m\u001b[0m\u001b[0;34m\u001b[0m\u001b[0;34m\u001b[0m\u001b[0m\n\u001b[0;32m----> 7\u001b[0;31m \u001b[0mprint\u001b[0m\u001b[0;34m(\u001b[0m\u001b[0mnumbers\u001b[0m\u001b[0;34m[\u001b[0m\u001b[0;36m6\u001b[0m\u001b[0;34m]\u001b[0m\u001b[0;34m)\u001b[0m\u001b[0;34m\u001b[0m\u001b[0;34m\u001b[0m\u001b[0m\n\u001b[0m",
            "\u001b[0;31mIndexError\u001b[0m: list index out of range"
          ]
        }
      ]
    },
    {
      "cell_type": "code",
      "metadata": {
        "colab": {
          "base_uri": "https://localhost:8080/"
        },
        "id": "JIpJcxh0sizk",
        "outputId": "f42cde10-0ca1-45a1-820d-754488e43c46"
      },
      "source": [
        "# Negative Index to access the list items from the end\n",
        "\n",
        "# a list of strings\n",
        "my_list = ['hello', 'world', 'hi', 'bye']\n",
        "\n",
        "# prints \"bye\"\n",
        "print(my_list[-1])\n",
        "\n",
        "# prints \"world\"\n",
        "print(my_list[-3])\n",
        "\n",
        "# prints \"hello\"\n",
        "print(my_list[-4])"
      ],
      "execution_count": null,
      "outputs": [
        {
          "output_type": "stream",
          "text": [
            "bye\n",
            "world\n",
            "hello\n"
          ],
          "name": "stdout"
        }
      ]
    },
    {
      "cell_type": "code",
      "metadata": {
        "colab": {
          "base_uri": "https://localhost:8080/"
        },
        "id": "tUUvBwlJsmsW",
        "outputId": "e8c9e608-7d36-4441-f377-4666f8f3a600"
      },
      "source": [
        "# Getting a sublist in Python using slicing\n",
        "\n",
        "# list of numbers\n",
        "n_list = [1, 2, 3, 4, 5, 6, 7]\n",
        "\n",
        "# list items from 2nd to 3rd\n",
        "print(n_list[1: 3])\n",
        "\n",
        "# list items from beginning to 3rd\n",
        "print(n_list[: 3])\n",
        "\n",
        "# list items from 4th to end of list\n",
        "print(n_list[3 :])\n",
        "\n",
        "# Whole list\n",
        "print(n_list[:])"
      ],
      "execution_count": null,
      "outputs": [
        {
          "output_type": "stream",
          "text": [
            "[2, 3]\n",
            "[1, 2, 3]\n",
            "[4, 5, 6, 7]\n",
            "[1, 2, 3, 4, 5, 6, 7]\n"
          ],
          "name": "stdout"
        }
      ]
    },
    {
      "cell_type": "code",
      "metadata": {
        "colab": {
          "base_uri": "https://localhost:8080/"
        },
        "id": "OP58EU1zsv8o",
        "outputId": "b3a964aa-d6e7-4d97-dc40-b8e067e4583c"
      },
      "source": [
        "# List Operations - Adding new elements to List\n",
        "\n",
        "# list of numbers\n",
        "n_list = [1, 2, 3, 4]\n",
        "\n",
        "# 1. adding item at the desired location\n",
        "# adding element 100 at the fourth location\n",
        "n_list.insert(3, 100)\n",
        "\n",
        "# list: [1, 2, 3, 100, 4]\n",
        "print(n_list)\n",
        "\n",
        "# 2. adding element at the end of the list\n",
        "n_list.append(99)\n",
        "\n",
        "# list: [1, 2, 3, 100, 4, 99]\n",
        "print(n_list)\n",
        "\n",
        "# 3. adding several elements at the end of list\n",
        "# the following statement can also be written like this:\n",
        "# n_list + [11, 22]\n",
        "n_list.extend([11, 22])\n",
        "\n",
        "# list: [1, 2, 3, 100, 4, 99, 11, 22]\n",
        "print(n_list)"
      ],
      "execution_count": null,
      "outputs": [
        {
          "output_type": "stream",
          "text": [
            "[1, 2, 3, 100, 4]\n",
            "[1, 2, 3, 100, 4, 99]\n",
            "[1, 2, 3, 100, 4, 99, 11, 22]\n"
          ],
          "name": "stdout"
        }
      ]
    },
    {
      "cell_type": "code",
      "metadata": {
        "colab": {
          "base_uri": "https://localhost:8080/"
        },
        "id": "_xo4zj9Ls2tc",
        "outputId": "cb6dd02e-28a6-40aa-de66-414e65024c6b"
      },
      "source": [
        "# List Operations - Updating elements in a list\n",
        "\n",
        "# list of numbers\n",
        "n_list = [1, 2, 3, 4]\n",
        "\n",
        "# Changing the value of 3rd item\n",
        "n_list[2] = 100\n",
        "\n",
        "# list: [1, 2, 100, 4]\n",
        "print(n_list)\n",
        "\n",
        "# Changing the values of 2nd to fourth items\n",
        "n_list[1 : 4] = [11, 22, 33]\n",
        "\n",
        "# list: [1, 11, 22, 33]\n",
        "print(n_list)"
      ],
      "execution_count": null,
      "outputs": [
        {
          "output_type": "stream",
          "text": [
            "[1, 2, 100, 4]\n",
            "[1, 11, 22, 33]\n"
          ],
          "name": "stdout"
        }
      ]
    },
    {
      "cell_type": "code",
      "metadata": {
        "colab": {
          "base_uri": "https://localhost:8080/"
        },
        "id": "kYuypGCKs64T",
        "outputId": "57bb6958-8e48-4458-ab7e-ded8313ebb61"
      },
      "source": [
        "# List Operations - Deleting elements in a list\n",
        "\n",
        "# list of numbers\n",
        "n_list = [1, 2, 3, 4, 5, 6]\n",
        "\n",
        "# Deleting 2nd element\n",
        "del n_list[1]\n",
        "\n",
        "# list: [1, 3, 4, 5, 6]\n",
        "print(n_list)\n",
        "\n",
        "# Deleting elements from 3rd to 4th\n",
        "del n_list[2 : 4]\n",
        "\n",
        "# list: [1, 3, 6]\n",
        "print(n_list)\n",
        "\n",
        "# Deleting the whole list\n",
        "del n_list"
      ],
      "execution_count": null,
      "outputs": [
        {
          "output_type": "stream",
          "text": [
            "[1, 3, 4, 5, 6]\n",
            "[1, 3, 6]\n"
          ],
          "name": "stdout"
        }
      ]
    },
    {
      "cell_type": "code",
      "metadata": {
        "colab": {
          "base_uri": "https://localhost:8080/"
        },
        "id": "fYtpr9lVs6VM",
        "outputId": "ccbfece5-5c76-422b-d64b-786f89be8398"
      },
      "source": [
        "# List Operations - Deleting elements using remove(), pop() and clear() methods\n",
        "# remove(item): Removes specified item from list.\n",
        "# pop(index): Removes the element from the given index.\n",
        "# pop(): Removes the last element.\n",
        "# clear(): Removes all the elements from the list.\n",
        "\n",
        "# list of chars\n",
        "ch_list = ['A', 'F', 'B', 'Z', 'O', 'L']\n",
        "\n",
        "# Deleting the element with value 'B'\n",
        "ch_list.remove('B')\n",
        "\n",
        "# list: ['A', 'F', 'Z', 'O', 'L']\n",
        "print(ch_list)\n",
        "\n",
        "# Deleting 2nd element\n",
        "ch_list.pop(1)\n",
        "\n",
        "# list: ['A', 'Z', 'O', 'L']\n",
        "print(ch_list)\n",
        "\n",
        "# Deleting all the elements\n",
        "ch_list.clear()\n",
        "\n",
        "# list: []\n",
        "print(ch_list)"
      ],
      "execution_count": null,
      "outputs": [
        {
          "output_type": "stream",
          "text": [
            "['A', 'F', 'Z', 'O', 'L']\n",
            "['A', 'Z', 'O', 'L']\n",
            "[]\n"
          ],
          "name": "stdout"
        }
      ]
    },
    {
      "cell_type": "code",
      "metadata": {
        "colab": {
          "base_uri": "https://localhost:8080/"
        },
        "id": "USF9jFkIxffi",
        "outputId": "fec5cfa0-5574-490b-bbe1-e25a75136262"
      },
      "source": [
        "# Other Operations\n",
        "some_list = ['physics', 'math', 1997, 2000];\n",
        "print (len(some_list))\n",
        "some_list = some_list + ['AI', 2018]\n",
        "print(some_list)\n",
        "print(some_list * 2)"
      ],
      "execution_count": null,
      "outputs": [
        {
          "output_type": "stream",
          "text": [
            "4\n",
            "['physics', 'math', 1997, 2000, 'AI', 2018]\n",
            "['physics', 'math', 1997, 2000, 'AI', 2018, 'physics', 'math', 1997, 2000, 'AI', 2018]\n"
          ],
          "name": "stdout"
        }
      ]
    },
    {
      "cell_type": "markdown",
      "metadata": {
        "id": "0iHEdWIQtHvf"
      },
      "source": [
        "## Tuple"
      ]
    },
    {
      "cell_type": "code",
      "metadata": {
        "colab": {
          "base_uri": "https://localhost:8080/"
        },
        "id": "KRXZlYpOs-WO",
        "outputId": "49be5f03-c491-4c68-e0bf-37e91a8d22b3"
      },
      "source": [
        "# Creating Tuples\n",
        "tup1 = ('physics', 'chemistry', 1997, 2000)\n",
        "tup2 = (1, 2, 3, 4, 5 )\n",
        "tup3 = 'a', 'b', 'c', 'd'\n",
        "print(type(tup3))\n",
        "\n",
        "# Accessing Values\n",
        "print(len(tup1))\n",
        "tup2 = (1, 2, 3, 4, 5, 6, 7 )\n",
        "print(\"tup1[0]: \", tup1[0])\n",
        "print(\"tup2[1 : 5]: \", tup2[1 : 5])"
      ],
      "execution_count": null,
      "outputs": [
        {
          "output_type": "stream",
          "text": [
            "<class 'tuple'>\n",
            "4\n",
            "tup1[0]:  physics\n",
            "tup2[1 : 5]:  (2, 3, 4, 5)\n"
          ],
          "name": "stdout"
        }
      ]
    },
    {
      "cell_type": "code",
      "metadata": {
        "colab": {
          "base_uri": "https://localhost:8080/",
          "height": 191
        },
        "id": "YTFbYG18txC5",
        "outputId": "2069c53f-9f76-463d-a270-b92ab56db47a"
      },
      "source": [
        "# Common Errors - Modifying a value\n",
        "tup1[0] = 100"
      ],
      "execution_count": null,
      "outputs": [
        {
          "output_type": "error",
          "ename": "TypeError",
          "evalue": "ignored",
          "traceback": [
            "\u001b[0;31m---------------------------------------------------------------------------\u001b[0m",
            "\u001b[0;31mTypeError\u001b[0m                                 Traceback (most recent call last)",
            "\u001b[0;32m<ipython-input-66-48e7bbe5ea73>\u001b[0m in \u001b[0;36m<module>\u001b[0;34m()\u001b[0m\n\u001b[1;32m      1\u001b[0m \u001b[0;31m# Common Errors - Modifying a value\u001b[0m\u001b[0;34m\u001b[0m\u001b[0;34m\u001b[0m\u001b[0;34m\u001b[0m\u001b[0m\n\u001b[0;32m----> 2\u001b[0;31m \u001b[0mtup1\u001b[0m\u001b[0;34m[\u001b[0m\u001b[0;36m0\u001b[0m\u001b[0;34m]\u001b[0m \u001b[0;34m=\u001b[0m \u001b[0;36m100\u001b[0m\u001b[0;34m\u001b[0m\u001b[0;34m\u001b[0m\u001b[0m\n\u001b[0m",
            "\u001b[0;31mTypeError\u001b[0m: 'tuple' object does not support item assignment"
          ]
        }
      ]
    },
    {
      "cell_type": "markdown",
      "metadata": {
        "id": "7ORNSkpMuzkb"
      },
      "source": [
        "## String"
      ]
    },
    {
      "cell_type": "code",
      "metadata": {
        "colab": {
          "base_uri": "https://localhost:8080/"
        },
        "id": "jdiGLxqnvXWN",
        "outputId": "d746bc77-e8b8-474d-e014-84b64fac3af2"
      },
      "source": [
        "# Creating a String\n",
        "\n",
        "# lets see the ways to create strings in Python\n",
        "str = 'itesm2020'\n",
        "print(str)\n",
        "\n",
        "str2 = \"Chaitanya\"\n",
        "print(str2)\n",
        "\n",
        "# multi-line string\n",
        "str3 = \"\"\"Welcome to \n",
        "   itesm 2020 training\"\"\"\n",
        "print(str3)\n",
        "\n",
        "str4 = '''This is a tech \n",
        "   blog'''\n",
        "print(str4)"
      ],
      "execution_count": null,
      "outputs": [
        {
          "output_type": "stream",
          "text": [
            "itesm2020\n",
            "Chaitanya\n",
            "Welcome to \n",
            "   itesm 2020 training\n",
            "This is a tech \n",
            "   blog\n"
          ],
          "name": "stdout"
        }
      ]
    },
    {
      "cell_type": "code",
      "metadata": {
        "colab": {
          "base_uri": "https://localhost:8080/"
        },
        "id": "c4Ezjg_vveYv",
        "outputId": "a5896ccb-ad27-45fa-c0f8-030074d85102"
      },
      "source": [
        "# Accessing elements in a string\n",
        "str = \"Kevin\"\n",
        "\n",
        "# displaying whole string\n",
        "print(str)\n",
        "\n",
        "# displaying first character of string\n",
        "print(str[0])\n",
        "\n",
        "# displaying third character of string\n",
        "print(str[2])\n",
        "\n",
        "# displaying the last character of the string\n",
        "print(str[-1])\n",
        "\n",
        "# displaying the second last char of string\n",
        "print(str[-2])"
      ],
      "execution_count": null,
      "outputs": [
        {
          "output_type": "stream",
          "text": [
            "Kevin\n",
            "K\n",
            "v\n",
            "n\n",
            "i\n"
          ],
          "name": "stdout"
        }
      ]
    },
    {
      "cell_type": "code",
      "metadata": {
        "colab": {
          "base_uri": "https://localhost:8080/"
        },
        "id": "YVf31ERaviXv",
        "outputId": "d305b6f7-44f7-4670-e4c6-a7db50791e35"
      },
      "source": [
        "# String Operations - Slicing operation\n",
        "str = \"Star Wars is Amazing\"\n",
        "\n",
        "# displaying whole string\n",
        "print(\"The original string is: \", str)\n",
        "\n",
        "# slicing 10th to the last character\n",
        "print(\"str[9 :]: \", str[9 :])\n",
        "\n",
        "# slicing 3rd to 6th character\n",
        "print(\"str[2 : 6]: \", str[2 : 6])\n",
        "\n",
        "# slicing from start to the 9th character\n",
        "print(\"str[: 9]: \", str[: 9])\n",
        "\n",
        "# slicing from 10th to second last character\n",
        "print(\"str[9 : -1]: \", str[9 : -1])"
      ],
      "execution_count": null,
      "outputs": [
        {
          "output_type": "stream",
          "text": [
            "The original string is:  Star Wars is Amazing\n",
            "str[9:]:   is Amazing\n",
            "str[2:6]:  ar W\n",
            "str[:9]:  Star Wars\n",
            "str[9:-1]:   is Amazin\n"
          ],
          "name": "stdout"
        }
      ]
    },
    {
      "cell_type": "code",
      "metadata": {
        "colab": {
          "base_uri": "https://localhost:8080/"
        },
        "id": "sxBC_swTv1qt",
        "outputId": "6589a650-9945-4840-87a8-4261d7c89aa7"
      },
      "source": [
        "# String Operations - Concatenation\n",
        "str1 = \"One\"\n",
        "str2 = \"Two\"\n",
        "str3 = \"Three\"\n",
        "\n",
        "# Concatenation of three strings\n",
        "print(str1 + str2 + str3)"
      ],
      "execution_count": null,
      "outputs": [
        {
          "output_type": "stream",
          "text": [
            "OneTwoThree\n"
          ],
          "name": "stdout"
        }
      ]
    },
    {
      "cell_type": "code",
      "metadata": {
        "colab": {
          "base_uri": "https://localhost:8080/"
        },
        "id": "dubKvk7xv3id",
        "outputId": "222a1046-a65c-4379-d092-5e424325cf2a"
      },
      "source": [
        "# String Operations - Repeating a String\n",
        "str = \"ABC\"\n",
        "\n",
        "# repeating the string str by 3 times\n",
        "print(str * 3)"
      ],
      "execution_count": null,
      "outputs": [
        {
          "output_type": "stream",
          "text": [
            "ABCABCABC\n"
          ],
          "name": "stdout"
        }
      ]
    },
    {
      "cell_type": "code",
      "metadata": {
        "colab": {
          "base_uri": "https://localhost:8080/"
        },
        "id": "Y5_Y8n8tv8JO",
        "outputId": "144d1309-5f7a-4c4e-c254-7b98a5817e1f"
      },
      "source": [
        "# String Operations - Membership Opertions\n",
        "str = \"Welcome to itesm 2020 training\"\n",
        "str2 = \"Welcome\"\n",
        "str3 = \"Chaitanya\"\n",
        "str4 = \"XYZ\"\n",
        "\n",
        "# str2 is in str? True\n",
        "print(str2 in str)\n",
        "\n",
        "# str3 is in str? False\n",
        "print(str3 in str)\n",
        "\n",
        "# str4 not in str? True\n",
        "print(str4 not in str)"
      ],
      "execution_count": null,
      "outputs": [
        {
          "output_type": "stream",
          "text": [
            "True\n",
            "False\n",
            "True\n"
          ],
          "name": "stdout"
        }
      ]
    },
    {
      "cell_type": "code",
      "metadata": {
        "colab": {
          "base_uri": "https://localhost:8080/"
        },
        "id": "1-ppdCj6v_FH",
        "outputId": "4cec4ff6-777a-4fe8-9b9d-310f5b43641e"
      },
      "source": [
        "# String Operations - Relational Operators on Strings\n",
        "# The relational operators works on strings based on the ASCII values of characters.\n",
        "\n",
        "# The ASCII value of a is 97, b is 98 and so on.\n",
        "# The ASCII value of A is 65, B is 66 and so on.\n",
        "\n",
        "str = \"ABC\"\n",
        "str2 = \"aBC\"\n",
        "str3 = \"XYZ\"\n",
        "str4 = \"XYz\"\n",
        "\n",
        "# ASCII value of str2 is > str? True\n",
        "print(str2 > str)\n",
        "\n",
        "# ASCII value of str3 is > str4? False\n",
        "print(str3 > str4)"
      ],
      "execution_count": null,
      "outputs": [
        {
          "output_type": "stream",
          "text": [
            "True\n",
            "False\n"
          ],
          "name": "stdout"
        }
      ]
    },
    {
      "cell_type": "code",
      "metadata": {
        "colab": {
          "base_uri": "https://localhost:8080/"
        },
        "id": "-FVrxMUN1XnP",
        "outputId": "5a95ab0c-536e-4505-f13a-98846e0bdc52"
      },
      "source": [
        "# Convert String to List and List to String\n",
        "string = \"Geeks for Geeks\"\n",
        "      \n",
        "# Splitting a string into list\n",
        "list_string = string.split(' ')\n",
        "print(list_string)\n",
        "  \n",
        "# Join list of strings into one\n",
        "new_string = '-'.join(list_string)\n",
        "print(new_string)"
      ],
      "execution_count": null,
      "outputs": [
        {
          "output_type": "stream",
          "text": [
            "['Geeks', 'for', 'Geeks']\n",
            "Geeks-for-Geeks\n"
          ],
          "name": "stdout"
        }
      ]
    },
    {
      "cell_type": "markdown",
      "metadata": {
        "id": "Ij0jSqag3-Ds"
      },
      "source": [
        "## Dictionaries"
      ]
    },
    {
      "cell_type": "code",
      "metadata": {
        "colab": {
          "base_uri": "https://localhost:8080/"
        },
        "id": "KEdcSCAW4tB-",
        "outputId": "815c857b-4c44-4e16-e7ca-3255b0a6827b"
      },
      "source": [
        "# Creating a dictionary\n",
        "mydict = {'StuName': 'Ajeet', 'StuAge': 30, 'StuCity': 'Agra'}\n",
        "\n",
        "print(\"Student Age is:\", mydict['StuAge'])\n",
        "print(\"Student City is:\", mydict['StuCity'])"
      ],
      "execution_count": null,
      "outputs": [
        {
          "output_type": "stream",
          "text": [
            "Student Age is: 30\n",
            "Student City is: Agra\n"
          ],
          "name": "stdout"
        }
      ]
    },
    {
      "cell_type": "code",
      "metadata": {
        "colab": {
          "base_uri": "https://localhost:8080/",
          "height": 191
        },
        "id": "tDTCtYur42yn",
        "outputId": "50cc0101-da96-49dd-d6b0-50bf1d096a38"
      },
      "source": [
        "# Common Errors - Looking for non-existing keys\n",
        "print(\"Student Age is:\", mydict['StuClass'])"
      ],
      "execution_count": null,
      "outputs": [
        {
          "output_type": "error",
          "ename": "KeyError",
          "evalue": "ignored",
          "traceback": [
            "\u001b[0;31m---------------------------------------------------------------------------\u001b[0m",
            "\u001b[0;31mKeyError\u001b[0m                                  Traceback (most recent call last)",
            "\u001b[0;32m<ipython-input-117-abfdbbd35161>\u001b[0m in \u001b[0;36m<module>\u001b[0;34m()\u001b[0m\n\u001b[1;32m      1\u001b[0m \u001b[0;31m# Common Errors - Looking for non-existing keys\u001b[0m\u001b[0;34m\u001b[0m\u001b[0;34m\u001b[0m\u001b[0;34m\u001b[0m\u001b[0m\n\u001b[0;32m----> 2\u001b[0;31m \u001b[0mprint\u001b[0m\u001b[0;34m(\u001b[0m\u001b[0;34m\"Student Age is:\"\u001b[0m\u001b[0;34m,\u001b[0m \u001b[0mmydict\u001b[0m\u001b[0;34m[\u001b[0m\u001b[0;34m'StuClass'\u001b[0m\u001b[0;34m]\u001b[0m\u001b[0;34m)\u001b[0m\u001b[0;34m\u001b[0m\u001b[0;34m\u001b[0m\u001b[0m\n\u001b[0m",
            "\u001b[0;31mKeyError\u001b[0m: 'StuClass'"
          ]
        }
      ]
    },
    {
      "cell_type": "code",
      "metadata": {
        "colab": {
          "base_uri": "https://localhost:8080/"
        },
        "id": "z52twK7s421Y",
        "outputId": "cf7b4812-2738-406e-c9e0-b61eef5bded4"
      },
      "source": [
        "# Changing values in a Dictionary\n",
        "mydict = {'StuName': 'Ajeet', 'StuAge': 30, 'StuCity': 'Agra'}\n",
        "print(\"Student Age before update is:\", mydict['StuAge'])\n",
        "print(\"Student City before update is:\", mydict['StuCity'])\n",
        "\n",
        "mydict['StuAge'] = 31\n",
        "mydict['StuCity'] = 'Noida'\n",
        "print(\"Student Age after update is:\", mydict['StuAge'])\n",
        "print(\"Student City after update is:\", mydict['StuCity'])"
      ],
      "execution_count": null,
      "outputs": [
        {
          "output_type": "stream",
          "text": [
            "Student Age before update is: 30\n",
            "Student City before update is: Agra\n",
            "Student Age after update is: 31\n",
            "Student City after update is: Noida\n"
          ],
          "name": "stdout"
        }
      ]
    },
    {
      "cell_type": "code",
      "metadata": {
        "colab": {
          "base_uri": "https://localhost:8080/"
        },
        "id": "ziqWsQQl43Ee",
        "outputId": "f4dcf4c9-6128-4d42-bb15-528bbbaf8b3d"
      },
      "source": [
        "# Adding new key-pair values\n",
        "mydict = {'StuName': 'Steve', 'StuAge': 4, 'StuCity': 'Agra'}\n",
        "mydict['StuClass'] = 'Jr.KG'\n",
        "print(\"Student Name is:\", mydict['StuName'])\n",
        "print(\"Student Class is:\", mydict['StuClass'])"
      ],
      "execution_count": null,
      "outputs": [
        {
          "output_type": "stream",
          "text": [
            "Student Name is: Steve\n",
            "Student Class is: Jr.KG\n"
          ],
          "name": "stdout"
        }
      ]
    },
    {
      "cell_type": "code",
      "metadata": {
        "colab": {
          "base_uri": "https://localhost:8080/"
        },
        "id": "4jVhDrh95GaU",
        "outputId": "7ba3dc54-7b55-425d-c2c5-0d42af4cb3fd"
      },
      "source": [
        "# Looping through a dictionary\n",
        "mydict = {'StuName': 'Steve', 'StuAge': 4, 'StuCity': 'Agra'}\n",
        "for e in mydict:\n",
        "  print(\"Key:\",e,\"Value:\",mydict[e])"
      ],
      "execution_count": null,
      "outputs": [
        {
          "output_type": "stream",
          "text": [
            "Key: StuName Value: Steve\n",
            "Key: StuAge Value: 4\n",
            "Key: StuCity Value: Agra\n"
          ],
          "name": "stdout"
        }
      ]
    },
    {
      "cell_type": "code",
      "metadata": {
        "colab": {
          "base_uri": "https://localhost:8080/"
        },
        "id": "tN1fmCpV76UE",
        "outputId": "56bb345e-8fc0-4c51-d5f4-7619f760c733"
      },
      "source": [
        "# Updation dictionaries\n",
        "dict = {'Name': 'Zara', 'Age': 7, 'Class': 'First'}\n",
        "dict['Age'] = 8; # update existing entry\n",
        "dict['School'] = \"DPS School\"; # Add new entry\n",
        "print (dict)"
      ],
      "execution_count": null,
      "outputs": [
        {
          "output_type": "stream",
          "text": [
            "{'Name': 'Zara', 'Age': 8, 'Class': 'First', 'School': 'DPS School'}\n"
          ],
          "name": "stdout"
        }
      ]
    },
    {
      "cell_type": "code",
      "metadata": {
        "colab": {
          "base_uri": "https://localhost:8080/"
        },
        "id": "5vq_ocws8G0n",
        "outputId": "993c108d-6876-4911-9af0-18efbfb5c633"
      },
      "source": [
        "# Useful functions\n",
        "print(dict.keys())\n",
        "print(dict.values())\n",
        "dict.clear()\n",
        "print(dict)"
      ],
      "execution_count": null,
      "outputs": [
        {
          "output_type": "stream",
          "text": [
            "dict_keys(['Name', 'Age', 'Class', 'School'])\n",
            "dict_values(['Zara', 8, 'First', 'DPS School'])\n",
            "{}\n"
          ],
          "name": "stdout"
        }
      ]
    },
    {
      "cell_type": "code",
      "metadata": {
        "colab": {
          "base_uri": "https://localhost:8080/"
        },
        "id": "jYOLVjtRECNj",
        "outputId": "3a6949da-d1fc-4d8c-b3fa-f98e754305af"
      },
      "source": [
        "# Creating dictionaries from list\n",
        "L1 = ['a','b','c','d']\n",
        "L2 = [1,2,3,4]\n",
        "d = dict(zip(L1,L2))\n",
        "print(d)"
      ],
      "execution_count": null,
      "outputs": [
        {
          "output_type": "stream",
          "text": [
            "{'a': 1, 'b': 2, 'c': 3, 'd': 4}\n"
          ],
          "name": "stdout"
        }
      ]
    },
    {
      "cell_type": "code",
      "metadata": {
        "id": "EIhZjHRqIf5P"
      },
      "source": [
        ""
      ],
      "execution_count": null,
      "outputs": []
    },
    {
      "cell_type": "markdown",
      "metadata": {
        "id": "kB4x-alx8ojg"
      },
      "source": [
        "## Functions"
      ]
    },
    {
      "cell_type": "code",
      "metadata": {
        "colab": {
          "base_uri": "https://localhost:8080/"
        },
        "id": "U-Ad2Q558rzI",
        "outputId": "664bbff2-3c3e-4093-ee48-d934ae174eec"
      },
      "source": [
        "# Lets define a function for adding numbers:\n",
        "def add(num1, num2):\n",
        "    return num1 + num2\n",
        "\n",
        "# Outside function\n",
        "sum1 = add(100, 200)\n",
        "sum2 = add(8, 9)\n",
        "print(sum1)\n",
        "print(sum2)"
      ],
      "execution_count": null,
      "outputs": [
        {
          "output_type": "stream",
          "text": [
            "300\n",
            "17\n"
          ],
          "name": "stdout"
        }
      ]
    },
    {
      "cell_type": "code",
      "metadata": {
        "colab": {
          "base_uri": "https://localhost:8080/"
        },
        "id": "gGOjlG8s9Mzj",
        "outputId": "279c9138-2b10-4d1d-a576-eb86f4eb75bc"
      },
      "source": [
        "# Using default arguments in a function:\n",
        "\n",
        "# Now that we know how to declare and call a function, lets see how can we use the default arguments. \n",
        "# By using default arguments we can avoid the errors that may arise while calling a function without \n",
        "# passing all the parameters. \n",
        "\n",
        "# default argument for second parameter\n",
        "def add(num1, num2=1):\n",
        "    return num1 + num2\n",
        "\n",
        "# Outside function\n",
        "sum1 = add(100, 200)\n",
        "sum2 = add(8)  # used default argument for second param\n",
        "sum3 = add(100)  # used default argument for second param\n",
        "print(sum1)\n",
        "print(sum2)\n",
        "print(sum3)"
      ],
      "execution_count": null,
      "outputs": [
        {
          "output_type": "stream",
          "text": [
            "300\n",
            "9\n",
            "101\n"
          ],
          "name": "stdout"
        }
      ]
    },
    {
      "cell_type": "code",
      "metadata": {
        "colab": {
          "base_uri": "https://localhost:8080/"
        },
        "id": "K2BZIRBa9TeU",
        "outputId": "eba860a5-ce1b-41e8-c675-18fd6e1e982e"
      },
      "source": [
        "# Defining function\n",
        "def printinfo( student_dict ):\n",
        "    print(\"Info of Student:\")\n",
        "    print(\"Name:\", student_dict['name'])\n",
        "    print(\"Class:\", student_dict['class'])\n",
        "    print(\"School:\", student_dict['school'])\n",
        "    print(\"Age:\", student_dict['age'])\n",
        "    return;\n",
        "\n",
        "# Outside function\n",
        "studentName = input(\"Enter name: \")\n",
        "studentAge = input(\"Enter age: \")\n",
        "studentClass = input(\"Enter class: \")\n",
        "studentSchool = input(\"Enter school: \")\n",
        "\n",
        "some_student = {'name': studentName, 'age': studentAge, 'class': studentClass, 'school': studentSchool}\n",
        "printinfo(some_student)"
      ],
      "execution_count": null,
      "outputs": [
        {
          "output_type": "stream",
          "text": [
            "Enter name: Zara\n",
            "Enter age: 7\n",
            "Enter class: First\n",
            "Enter school: DPS School\n",
            "Info of Student:\n",
            "Name: Zara\n",
            "Class: First\n",
            "School: DPS School\n",
            "Age: 7\n"
          ],
          "name": "stdout"
        }
      ]
    },
    {
      "cell_type": "code",
      "metadata": {
        "colab": {
          "base_uri": "https://localhost:8080/"
        },
        "id": "4HAisBKQBILl",
        "outputId": "d1a894fa-e3be-490b-d83a-d9cabb9aa0d7"
      },
      "source": [
        "# Example of recursion in Python to\n",
        "# find the factorial of a given number\n",
        "\n",
        "def factorial(num):\n",
        "    \"\"\"This function calls itself to find\n",
        "    the factorial of a number\"\"\"\n",
        "\n",
        "    if num == 1:\n",
        "        return 1\n",
        "    else:\n",
        "        return (num * factorial(num - 1))\n",
        "\n",
        "\n",
        "num = 5\n",
        "print(\"Factorial of\", num, \"is:\", factorial(num))"
      ],
      "execution_count": null,
      "outputs": [
        {
          "output_type": "stream",
          "text": [
            "Factorial of 5 is: 120\n"
          ],
          "name": "stdout"
        }
      ]
    },
    {
      "cell_type": "code",
      "metadata": {
        "id": "lOVlbUSgDv-t",
        "colab": {
          "base_uri": "https://localhost:8080/"
        },
        "outputId": "11489f1b-c461-46d0-b150-640f4d75b2d8"
      },
      "source": [
        "# Lamba Example 1\n",
        "print((lambda x: x + 1)(2)"
      ],
      "execution_count": null,
      "outputs": [
        {
          "output_type": "execute_result",
          "data": {
            "text/plain": [
              "3"
            ]
          },
          "metadata": {
            "tags": []
          },
          "execution_count": 3
        }
      ]
    },
    {
      "cell_type": "code",
      "metadata": {
        "colab": {
          "base_uri": "https://localhost:8080/"
        },
        "id": "IY8FfajSMFF2",
        "outputId": "59f4bc19-6e31-4313-9cb5-73e18a9514f9"
      },
      "source": [
        "# Lambda Example 2\n",
        "adder = lambda x, y: x + y\n",
        "print (adder (1, 2))\n"
      ],
      "execution_count": null,
      "outputs": [
        {
          "output_type": "stream",
          "text": [
            "3\n"
          ],
          "name": "stdout"
        }
      ]
    },
    {
      "cell_type": "markdown",
      "metadata": {
        "id": "QID-AUaYEOZ6"
      },
      "source": [
        "## Modules: NumPy"
      ]
    },
    {
      "cell_type": "markdown",
      "metadata": {
        "id": "Ga-0L9WlGdyw"
      },
      "source": [
        "#### Impoting and Creating a numPy"
      ]
    },
    {
      "cell_type": "code",
      "metadata": {
        "colab": {
          "base_uri": "https://localhost:8080/"
        },
        "id": "QkudSNcbFFmw",
        "outputId": "672c97c1-8c69-46f7-fef5-342885165b0a"
      },
      "source": [
        "# Import numPy\n",
        "import numpy as np\n",
        "\n",
        "# Create a list\n",
        "my_list = [1, 2, 3, 4]\n",
        "print(\"my_list:\", my_list)\n",
        "\n",
        "# Use that list to create a numPy array\n",
        "np_array = np.array(my_list)\n",
        "print(\"np_array:\", np_array)\n",
        "print(\"type of np_array:\", type(np_array))"
      ],
      "execution_count": null,
      "outputs": [
        {
          "output_type": "stream",
          "text": [
            "my_list: [1, 2, 3, 4]\n",
            "np_array: [1 2 3 4]\n",
            "type of np_array: <class 'numpy.ndarray'>\n"
          ],
          "name": "stdout"
        }
      ]
    },
    {
      "cell_type": "markdown",
      "metadata": {
        "id": "7lgxk8ZBGos0"
      },
      "source": [
        "#### Built-in Methods of numPy "
      ]
    },
    {
      "cell_type": "markdown",
      "metadata": {
        "id": "FrVd1qhmHA_5"
      },
      "source": [
        "arange: Return evenly spaced values within a given interval."
      ]
    },
    {
      "cell_type": "code",
      "metadata": {
        "colab": {
          "base_uri": "https://localhost:8080/"
        },
        "id": "szqGILUTG-5I",
        "outputId": "5eacd49f-a8be-4e90-af89-84a273349402"
      },
      "source": [
        "np.arange(10)"
      ],
      "execution_count": null,
      "outputs": [
        {
          "output_type": "execute_result",
          "data": {
            "text/plain": [
              "array([0, 1, 2, 3, 4, 5, 6, 7, 8, 9])"
            ]
          },
          "metadata": {
            "tags": []
          },
          "execution_count": 128
        }
      ]
    },
    {
      "cell_type": "code",
      "metadata": {
        "colab": {
          "base_uri": "https://localhost:8080/"
        },
        "id": "qtmtVLBRHMCM",
        "outputId": "f2f1ac71-dc5c-4f4f-be61-f047881350bd"
      },
      "source": [
        "np.arange(0, 10)"
      ],
      "execution_count": null,
      "outputs": [
        {
          "output_type": "execute_result",
          "data": {
            "text/plain": [
              "array([0, 1, 2, 3, 4, 5, 6, 7, 8, 9])"
            ]
          },
          "metadata": {
            "tags": []
          },
          "execution_count": 129
        }
      ]
    },
    {
      "cell_type": "code",
      "metadata": {
        "colab": {
          "base_uri": "https://localhost:8080/"
        },
        "id": "7DCEKQj5HLxF",
        "outputId": "d1505259-8f55-4952-dfaa-cde11350f558"
      },
      "source": [
        "np.arange(0, 11, 2)"
      ],
      "execution_count": null,
      "outputs": [
        {
          "output_type": "execute_result",
          "data": {
            "text/plain": [
              "array([ 0,  2,  4,  6,  8, 10])"
            ]
          },
          "metadata": {
            "tags": []
          },
          "execution_count": 130
        }
      ]
    },
    {
      "cell_type": "code",
      "metadata": {
        "colab": {
          "base_uri": "https://localhost:8080/"
        },
        "id": "o65kxd4eHLzm",
        "outputId": "d15fb7d4-2369-4e31-ec84-7d4ae12a15ad"
      },
      "source": [
        "np.arange(5)"
      ],
      "execution_count": null,
      "outputs": [
        {
          "output_type": "execute_result",
          "data": {
            "text/plain": [
              "array([0, 1, 2, 3, 4])"
            ]
          },
          "metadata": {
            "tags": []
          },
          "execution_count": 131
        }
      ]
    },
    {
      "cell_type": "markdown",
      "metadata": {
        "id": "6U5GXHzTHX_f"
      },
      "source": [
        "zeros and ones: Generate arrays of zeros or ones"
      ]
    },
    {
      "cell_type": "code",
      "metadata": {
        "colab": {
          "base_uri": "https://localhost:8080/"
        },
        "id": "DZrOI8SWHe7x",
        "outputId": "baff5428-6007-48d7-99fa-a8e6b74ddd43"
      },
      "source": [
        "np.zeros(3)"
      ],
      "execution_count": null,
      "outputs": [
        {
          "output_type": "execute_result",
          "data": {
            "text/plain": [
              "array([0., 0., 0.])"
            ]
          },
          "metadata": {
            "tags": []
          },
          "execution_count": 132
        }
      ]
    },
    {
      "cell_type": "code",
      "metadata": {
        "colab": {
          "base_uri": "https://localhost:8080/"
        },
        "id": "ONvZd-hPHfGp",
        "outputId": "faa794ea-232d-4a80-babd-4029c8cbaa65"
      },
      "source": [
        "np.zeros((5, 5))"
      ],
      "execution_count": null,
      "outputs": [
        {
          "output_type": "execute_result",
          "data": {
            "text/plain": [
              "array([[0., 0., 0., 0., 0.],\n",
              "       [0., 0., 0., 0., 0.],\n",
              "       [0., 0., 0., 0., 0.],\n",
              "       [0., 0., 0., 0., 0.],\n",
              "       [0., 0., 0., 0., 0.]])"
            ]
          },
          "metadata": {
            "tags": []
          },
          "execution_count": 133
        }
      ]
    },
    {
      "cell_type": "code",
      "metadata": {
        "colab": {
          "base_uri": "https://localhost:8080/"
        },
        "id": "iCyCmiNcH0xJ",
        "outputId": "e7e8b4b2-92de-4be1-c01b-64d8bf8396b3"
      },
      "source": [
        "np.ones(3)"
      ],
      "execution_count": null,
      "outputs": [
        {
          "output_type": "execute_result",
          "data": {
            "text/plain": [
              "array([1., 1., 1.])"
            ]
          },
          "metadata": {
            "tags": []
          },
          "execution_count": 134
        }
      ]
    },
    {
      "cell_type": "code",
      "metadata": {
        "colab": {
          "base_uri": "https://localhost:8080/"
        },
        "id": "_l6Msx9gH6dA",
        "outputId": "5baa3ce9-a34a-4b60-ecca-b6a97a317dfb"
      },
      "source": [
        "np.ones((3, 3))"
      ],
      "execution_count": null,
      "outputs": [
        {
          "output_type": "execute_result",
          "data": {
            "text/plain": [
              "array([[1., 1., 1.],\n",
              "       [1., 1., 1.],\n",
              "       [1., 1., 1.]])"
            ]
          },
          "metadata": {
            "tags": []
          },
          "execution_count": 135
        }
      ]
    },
    {
      "cell_type": "markdown",
      "metadata": {
        "id": "2_MtyZzMH99R"
      },
      "source": [
        "linspace: Returns numbers evenly spaced samples, calculated over the interval"
      ]
    },
    {
      "cell_type": "code",
      "metadata": {
        "colab": {
          "base_uri": "https://localhost:8080/"
        },
        "id": "9O4WQAfoIrQG",
        "outputId": "c7bf144a-3b24-4c94-ba67-a52ce27a2941"
      },
      "source": [
        "np.linspace(0, 9, 10)"
      ],
      "execution_count": null,
      "outputs": [
        {
          "output_type": "execute_result",
          "data": {
            "text/plain": [
              "array([0., 1., 2., 3., 4., 5., 6., 7., 8., 9.])"
            ]
          },
          "metadata": {
            "tags": []
          },
          "execution_count": 136
        }
      ]
    },
    {
      "cell_type": "code",
      "metadata": {
        "colab": {
          "base_uri": "https://localhost:8080/"
        },
        "id": "_DW1HCWeIyef",
        "outputId": "bf121f6f-9587-49e5-d8a1-04d35321ce09"
      },
      "source": [
        "np.linspace(0, 5, 20)"
      ],
      "execution_count": null,
      "outputs": [
        {
          "output_type": "execute_result",
          "data": {
            "text/plain": [
              "array([0.        , 0.26315789, 0.52631579, 0.78947368, 1.05263158,\n",
              "       1.31578947, 1.57894737, 1.84210526, 2.10526316, 2.36842105,\n",
              "       2.63157895, 2.89473684, 3.15789474, 3.42105263, 3.68421053,\n",
              "       3.94736842, 4.21052632, 4.47368421, 4.73684211, 5.        ])"
            ]
          },
          "metadata": {
            "tags": []
          },
          "execution_count": 137
        }
      ]
    },
    {
      "cell_type": "code",
      "metadata": {
        "colab": {
          "base_uri": "https://localhost:8080/"
        },
        "id": "ClIO1QGRIyl1",
        "outputId": "22752b2b-394d-4e84-91ec-a0326d936c36"
      },
      "source": [
        "np.linspace(0, 5, 21)"
      ],
      "execution_count": null,
      "outputs": [
        {
          "output_type": "execute_result",
          "data": {
            "text/plain": [
              "array([0.  , 0.25, 0.5 , 0.75, 1.  , 1.25, 1.5 , 1.75, 2.  , 2.25, 2.5 ,\n",
              "       2.75, 3.  , 3.25, 3.5 , 3.75, 4.  , 4.25, 4.5 , 4.75, 5.  ])"
            ]
          },
          "metadata": {
            "tags": []
          },
          "execution_count": 138
        }
      ]
    },
    {
      "cell_type": "markdown",
      "metadata": {
        "id": "tmaFfTyYH-YR"
      },
      "source": [
        "eye: Creates an identity matrix"
      ]
    },
    {
      "cell_type": "code",
      "metadata": {
        "colab": {
          "base_uri": "https://localhost:8080/"
        },
        "id": "TVMEhoWpJA3d",
        "outputId": "2a3bd9db-8c08-4465-aa62-1ada6f740805"
      },
      "source": [
        "np.eye(4)"
      ],
      "execution_count": null,
      "outputs": [
        {
          "output_type": "execute_result",
          "data": {
            "text/plain": [
              "array([[1., 0., 0., 0.],\n",
              "       [0., 1., 0., 0.],\n",
              "       [0., 0., 1., 0.],\n",
              "       [0., 0., 0., 1.]])"
            ]
          },
          "metadata": {
            "tags": []
          },
          "execution_count": 139
        }
      ]
    },
    {
      "cell_type": "markdown",
      "metadata": {
        "id": "5qu8X53ZIOqP"
      },
      "source": [
        "random.rand: Creates an array of the given shape and populates it with random samples from a uniform distribution over [0, 1)"
      ]
    },
    {
      "cell_type": "code",
      "metadata": {
        "colab": {
          "base_uri": "https://localhost:8080/"
        },
        "id": "Se9lNRCQJC6-",
        "outputId": "d1118e38-eaaf-45c9-a06b-7a76e5f5f929"
      },
      "source": [
        "np.random.seed(7)\n",
        "np.random.rand(2)"
      ],
      "execution_count": null,
      "outputs": [
        {
          "output_type": "execute_result",
          "data": {
            "text/plain": [
              "array([0.07630829, 0.77991879])"
            ]
          },
          "metadata": {
            "tags": []
          },
          "execution_count": 140
        }
      ]
    },
    {
      "cell_type": "code",
      "metadata": {
        "colab": {
          "base_uri": "https://localhost:8080/"
        },
        "id": "5JaOegqgJKDP",
        "outputId": "1b9d5ae2-de0f-4a79-8f2e-5360a74d7453"
      },
      "source": [
        "np.random.rand(2)"
      ],
      "execution_count": null,
      "outputs": [
        {
          "output_type": "execute_result",
          "data": {
            "text/plain": [
              "array([0.43840923, 0.72346518])"
            ]
          },
          "metadata": {
            "tags": []
          },
          "execution_count": 141
        }
      ]
    },
    {
      "cell_type": "code",
      "metadata": {
        "colab": {
          "base_uri": "https://localhost:8080/"
        },
        "id": "uaOZgL9jJLjW",
        "outputId": "1837dac2-bbcd-4ce0-d658-4ebb47e0a6bc"
      },
      "source": [
        "np.random.rand(5, 5)"
      ],
      "execution_count": null,
      "outputs": [
        {
          "output_type": "execute_result",
          "data": {
            "text/plain": [
              "array([[0.97798951, 0.53849587, 0.50112046, 0.07205113, 0.26843898],\n",
              "       [0.4998825 , 0.67923   , 0.80373904, 0.38094113, 0.06593635],\n",
              "       [0.2881456 , 0.90959353, 0.21338535, 0.45212396, 0.93120602],\n",
              "       [0.02489923, 0.60054892, 0.9501295 , 0.23030288, 0.54848992],\n",
              "       [0.90912837, 0.13316945, 0.52341258, 0.75040986, 0.66901324]])"
            ]
          },
          "metadata": {
            "tags": []
          },
          "execution_count": 142
        }
      ]
    },
    {
      "cell_type": "markdown",
      "metadata": {
        "id": "RMpnitIXIO92"
      },
      "source": [
        "randn: Returns a sample (or samples) from the \"standard normal\" distribution [σ = 1]. Unlike rand which is uniform, values closer to zero are more likely to appear."
      ]
    },
    {
      "cell_type": "code",
      "metadata": {
        "colab": {
          "base_uri": "https://localhost:8080/"
        },
        "id": "fmfehUKKIiRk",
        "outputId": "5dcddd7d-07ac-40d1-c20a-01605fd9eb4f"
      },
      "source": [
        "np.random.randn(2)"
      ],
      "execution_count": null,
      "outputs": [
        {
          "output_type": "execute_result",
          "data": {
            "text/plain": [
              "array([-1.43532596, -0.15681862])"
            ]
          },
          "metadata": {
            "tags": []
          },
          "execution_count": 143
        }
      ]
    },
    {
      "cell_type": "code",
      "metadata": {
        "colab": {
          "base_uri": "https://localhost:8080/"
        },
        "id": "7E3mWLlIJUPp",
        "outputId": "4a9e382b-d09e-4616-f03b-db6e7646fc7f"
      },
      "source": [
        "np.random.seed(7)\n",
        "np.random.randn(5, 5)"
      ],
      "execution_count": null,
      "outputs": [
        {
          "output_type": "execute_result",
          "data": {
            "text/plain": [
              "array([[ 1.69052570e+00, -4.65937371e-01,  3.28201637e-02,\n",
              "         4.07516283e-01, -7.88923029e-01],\n",
              "       [ 2.06557291e-03, -8.90385858e-04, -1.75472431e+00,\n",
              "         1.01765801e+00,  6.00498516e-01],\n",
              "       [-6.25428974e-01, -1.71548261e-01,  5.05299374e-01,\n",
              "        -2.61356415e-01, -2.42749079e-01],\n",
              "       [-1.45324141e+00,  5.54580312e-01,  1.23880905e-01,\n",
              "         2.74459924e-01, -1.52652453e+00],\n",
              "       [ 1.65069969e+00,  1.54335535e-01, -3.87139943e-01,\n",
              "         2.02907222e+00, -4.53860299e-02]])"
            ]
          },
          "metadata": {
            "tags": []
          },
          "execution_count": 144
        }
      ]
    },
    {
      "cell_type": "markdown",
      "metadata": {
        "id": "4TpTtNU8JVVp"
      },
      "source": [
        "randint"
      ]
    },
    {
      "cell_type": "code",
      "metadata": {
        "colab": {
          "base_uri": "https://localhost:8080/"
        },
        "id": "G6LZ5d73Jag6",
        "outputId": "5261031e-d7e9-4b5e-e7eb-10d087089db3"
      },
      "source": [
        "np.random.randint(1, 100)"
      ],
      "execution_count": null,
      "outputs": [
        {
          "output_type": "execute_result",
          "data": {
            "text/plain": [
              "93"
            ]
          },
          "metadata": {
            "tags": []
          },
          "execution_count": 145
        }
      ]
    },
    {
      "cell_type": "code",
      "metadata": {
        "colab": {
          "base_uri": "https://localhost:8080/"
        },
        "id": "-mm1t52SJakC",
        "outputId": "08d23523-05a4-4211-9bfe-da688d76f6e3"
      },
      "source": [
        "np.random.randint(1, 100, 10)"
      ],
      "execution_count": null,
      "outputs": [
        {
          "output_type": "execute_result",
          "data": {
            "text/plain": [
              "array([72, 24, 11, 36, 65, 62,  8, 24, 93, 97])"
            ]
          },
          "metadata": {
            "tags": []
          },
          "execution_count": 146
        }
      ]
    },
    {
      "cell_type": "markdown",
      "metadata": {
        "id": "aO27CnB9JXAh"
      },
      "source": [
        "seed"
      ]
    },
    {
      "cell_type": "code",
      "metadata": {
        "colab": {
          "base_uri": "https://localhost:8080/"
        },
        "id": "NQ7f734ZJgZc",
        "outputId": "d3e670b6-9f54-400b-9c75-64a6cf602b93"
      },
      "source": [
        "np.random.seed(42)\n",
        "np.random.rand(4)"
      ],
      "execution_count": null,
      "outputs": [
        {
          "output_type": "execute_result",
          "data": {
            "text/plain": [
              "array([0.37454012, 0.95071431, 0.73199394, 0.59865848])"
            ]
          },
          "metadata": {
            "tags": []
          },
          "execution_count": 147
        }
      ]
    },
    {
      "cell_type": "code",
      "metadata": {
        "colab": {
          "base_uri": "https://localhost:8080/"
        },
        "id": "9Srn16AcJgcD",
        "outputId": "89fd6215-462d-49cb-d0fb-1b8ca9b6dcab"
      },
      "source": [
        "np.random.seed(42)\n",
        "np.random.rand(4)"
      ],
      "execution_count": null,
      "outputs": [
        {
          "output_type": "execute_result",
          "data": {
            "text/plain": [
              "array([0.37454012, 0.95071431, 0.73199394, 0.59865848])"
            ]
          },
          "metadata": {
            "tags": []
          },
          "execution_count": 148
        }
      ]
    },
    {
      "cell_type": "markdown",
      "metadata": {
        "id": "NciJ2BGzJtKP"
      },
      "source": [
        "#### Array Attributes and Other Methods"
      ]
    },
    {
      "cell_type": "code",
      "metadata": {
        "colab": {
          "base_uri": "https://localhost:8080/"
        },
        "id": "xlClx7nAJu9J",
        "outputId": "2a3f03a6-407a-415e-c29b-4117b69c018e"
      },
      "source": [
        "np_array = np.arange(25)\n",
        "np_random_array = np.random.randint(0, 50, 10)\n",
        "print(np_array)\n",
        "print(np_random_array)"
      ],
      "execution_count": null,
      "outputs": [
        {
          "output_type": "stream",
          "text": [
            "[ 0  1  2  3  4  5  6  7  8  9 10 11 12 13 14 15 16 17 18 19 20 21 22 23\n",
            " 24]\n",
            "[21  1 23 43 29 37  1 20 32 11]\n"
          ],
          "name": "stdout"
        }
      ]
    },
    {
      "cell_type": "markdown",
      "metadata": {
        "id": "7MX0OZpFKchj"
      },
      "source": [
        "Reshape: Returns an array containing the same data with a new shape."
      ]
    },
    {
      "cell_type": "code",
      "metadata": {
        "colab": {
          "base_uri": "https://localhost:8080/"
        },
        "id": "AFGedsS5K2oe",
        "outputId": "549c11bc-4f40-41fd-b124-ba18a50d4e6b"
      },
      "source": [
        "np_array.reshape(5, 5)"
      ],
      "execution_count": null,
      "outputs": [
        {
          "output_type": "execute_result",
          "data": {
            "text/plain": [
              "array([[ 0,  1,  2,  3,  4],\n",
              "       [ 5,  6,  7,  8,  9],\n",
              "       [10, 11, 12, 13, 14],\n",
              "       [15, 16, 17, 18, 19],\n",
              "       [20, 21, 22, 23, 24]])"
            ]
          },
          "metadata": {
            "tags": []
          },
          "execution_count": 152
        }
      ]
    },
    {
      "cell_type": "markdown",
      "metadata": {
        "id": "HhYWB8lUKc-z"
      },
      "source": [
        "max, min, argmax, argmin: useful methods for finding max or min values. Or to find their index locations using argmin or argmax"
      ]
    },
    {
      "cell_type": "code",
      "metadata": {
        "colab": {
          "base_uri": "https://localhost:8080/"
        },
        "id": "H0Y06MsoK4lu",
        "outputId": "e555df82-c869-40a2-d342-0727fdfa4bd6"
      },
      "source": [
        "np_random_array"
      ],
      "execution_count": null,
      "outputs": [
        {
          "output_type": "execute_result",
          "data": {
            "text/plain": [
              "array([21,  1, 23, 43, 29, 37,  1, 20, 32, 11])"
            ]
          },
          "metadata": {
            "tags": []
          },
          "execution_count": 153
        }
      ]
    },
    {
      "cell_type": "code",
      "metadata": {
        "colab": {
          "base_uri": "https://localhost:8080/"
        },
        "id": "sL66orwWK8cs",
        "outputId": "beb436d6-66f4-4f90-9010-ee797d6f28d3"
      },
      "source": [
        "np_random_array.max()"
      ],
      "execution_count": null,
      "outputs": [
        {
          "output_type": "execute_result",
          "data": {
            "text/plain": [
              "43"
            ]
          },
          "metadata": {
            "tags": []
          },
          "execution_count": 154
        }
      ]
    },
    {
      "cell_type": "code",
      "metadata": {
        "colab": {
          "base_uri": "https://localhost:8080/"
        },
        "id": "SzXVuufbK8jM",
        "outputId": "d9ed432c-db8a-4b9b-ff5c-2d4007843c4b"
      },
      "source": [
        "np_random_array.argmax()"
      ],
      "execution_count": null,
      "outputs": [
        {
          "output_type": "execute_result",
          "data": {
            "text/plain": [
              "3"
            ]
          },
          "metadata": {
            "tags": []
          },
          "execution_count": 155
        }
      ]
    },
    {
      "cell_type": "code",
      "metadata": {
        "colab": {
          "base_uri": "https://localhost:8080/"
        },
        "id": "TxZoXwmFK8ub",
        "outputId": "31e47e7e-78e4-496d-8726-a532007431ad"
      },
      "source": [
        "np_random_array.min()"
      ],
      "execution_count": null,
      "outputs": [
        {
          "output_type": "execute_result",
          "data": {
            "text/plain": [
              "1"
            ]
          },
          "metadata": {
            "tags": []
          },
          "execution_count": 156
        }
      ]
    },
    {
      "cell_type": "code",
      "metadata": {
        "colab": {
          "base_uri": "https://localhost:8080/"
        },
        "id": "6Dl1NKqdLEKX",
        "outputId": "baaf4dec-24fb-4019-9f72-0bfbd65e61da"
      },
      "source": [
        "np_random_array.argmin()"
      ],
      "execution_count": null,
      "outputs": [
        {
          "output_type": "execute_result",
          "data": {
            "text/plain": [
              "1"
            ]
          },
          "metadata": {
            "tags": []
          },
          "execution_count": 157
        }
      ]
    },
    {
      "cell_type": "markdown",
      "metadata": {
        "id": "NHuBzNiUKdLM"
      },
      "source": [
        "Shape: Is an attribute that arrays have (not a method)"
      ]
    },
    {
      "cell_type": "code",
      "metadata": {
        "colab": {
          "base_uri": "https://localhost:8080/"
        },
        "id": "r6nQaq6CKx45",
        "outputId": "f865fb26-565c-4e6e-c8ad-c872a977e08e"
      },
      "source": [
        "# Vector\n",
        "np_array.shape"
      ],
      "execution_count": null,
      "outputs": [
        {
          "output_type": "execute_result",
          "data": {
            "text/plain": [
              "(25,)"
            ]
          },
          "metadata": {
            "tags": []
          },
          "execution_count": 158
        }
      ]
    },
    {
      "cell_type": "code",
      "metadata": {
        "colab": {
          "base_uri": "https://localhost:8080/"
        },
        "id": "WdlkmQ6CLHkX",
        "outputId": "d1a010f1-6c10-4c14-c5e4-b20ba2c095d4"
      },
      "source": [
        "# Notice the two sets of brackets\n",
        "np_array.reshape(1, 25)"
      ],
      "execution_count": null,
      "outputs": [
        {
          "output_type": "execute_result",
          "data": {
            "text/plain": [
              "array([[ 0,  1,  2,  3,  4,  5,  6,  7,  8,  9, 10, 11, 12, 13, 14, 15,\n",
              "        16, 17, 18, 19, 20, 21, 22, 23, 24]])"
            ]
          },
          "metadata": {
            "tags": []
          },
          "execution_count": 159
        }
      ]
    },
    {
      "cell_type": "code",
      "metadata": {
        "colab": {
          "base_uri": "https://localhost:8080/"
        },
        "id": "2bTcFJEtLHnH",
        "outputId": "e4f6ee25-cba2-48a9-83c9-e836a8d9585e"
      },
      "source": [
        "np_array.reshape(1, 25).shape"
      ],
      "execution_count": null,
      "outputs": [
        {
          "output_type": "execute_result",
          "data": {
            "text/plain": [
              "(1, 25)"
            ]
          },
          "metadata": {
            "tags": []
          },
          "execution_count": 160
        }
      ]
    },
    {
      "cell_type": "code",
      "metadata": {
        "colab": {
          "base_uri": "https://localhost:8080/"
        },
        "id": "8yODcm0XLNg0",
        "outputId": "6e39ee77-8d26-494b-c4b6-e8f7c9cc77a4"
      },
      "source": [
        "np_array.reshape(25, 1)"
      ],
      "execution_count": null,
      "outputs": [
        {
          "output_type": "execute_result",
          "data": {
            "text/plain": [
              "array([[ 0],\n",
              "       [ 1],\n",
              "       [ 2],\n",
              "       [ 3],\n",
              "       [ 4],\n",
              "       [ 5],\n",
              "       [ 6],\n",
              "       [ 7],\n",
              "       [ 8],\n",
              "       [ 9],\n",
              "       [10],\n",
              "       [11],\n",
              "       [12],\n",
              "       [13],\n",
              "       [14],\n",
              "       [15],\n",
              "       [16],\n",
              "       [17],\n",
              "       [18],\n",
              "       [19],\n",
              "       [20],\n",
              "       [21],\n",
              "       [22],\n",
              "       [23],\n",
              "       [24]])"
            ]
          },
          "metadata": {
            "tags": []
          },
          "execution_count": 161
        }
      ]
    },
    {
      "cell_type": "code",
      "metadata": {
        "colab": {
          "base_uri": "https://localhost:8080/"
        },
        "id": "qt9OWG6vLQkD",
        "outputId": "fffe23b3-43e4-4dcc-b809-0876927fbefc"
      },
      "source": [
        "np_array.reshape(25, 1).shape"
      ],
      "execution_count": null,
      "outputs": [
        {
          "output_type": "execute_result",
          "data": {
            "text/plain": [
              "(25, 1)"
            ]
          },
          "metadata": {
            "tags": []
          },
          "execution_count": 162
        }
      ]
    },
    {
      "cell_type": "markdown",
      "metadata": {
        "id": "LU-7FlwoKyU9"
      },
      "source": [
        "dtype: Grabs the data type of the object in the array"
      ]
    },
    {
      "cell_type": "code",
      "metadata": {
        "colab": {
          "base_uri": "https://localhost:8080/"
        },
        "id": "xgsWsaQOLUqX",
        "outputId": "9bbb5d89-ff8d-4dff-9ff7-2d867dfc69a4"
      },
      "source": [
        "np_array.dtype"
      ],
      "execution_count": null,
      "outputs": [
        {
          "output_type": "execute_result",
          "data": {
            "text/plain": [
              "dtype('int64')"
            ]
          },
          "metadata": {
            "tags": []
          },
          "execution_count": 163
        }
      ]
    },
    {
      "cell_type": "code",
      "metadata": {
        "colab": {
          "base_uri": "https://localhost:8080/"
        },
        "id": "JBUIOkrlLWpE",
        "outputId": "fd83c3de-160a-4d47-aebe-3a99842cb725"
      },
      "source": [
        "np_array = np.array([1.2, 3.4, 5.6])\n",
        "np_array.dtype"
      ],
      "execution_count": null,
      "outputs": [
        {
          "output_type": "execute_result",
          "data": {
            "text/plain": [
              "dtype('float64')"
            ]
          },
          "metadata": {
            "tags": []
          },
          "execution_count": 164
        }
      ]
    },
    {
      "cell_type": "markdown",
      "metadata": {
        "id": "MSMHYeO6MGdC"
      },
      "source": [
        "## Handling Files"
      ]
    },
    {
      "cell_type": "code",
      "metadata": {
        "colab": {
          "base_uri": "https://localhost:8080/"
        },
        "id": "1AvUiSxR4JCu",
        "outputId": "ef73f5b7-0ec7-420f-c4f2-6a40370a4301"
      },
      "source": [
        "# myfile.txt contains:\n",
        "# I am learning Python programming.\n",
        "# Python is an interesting language.\n",
        "\n",
        "# Open file\n",
        "myfile = open(\"/content/drive/MyDrive/Google Colab Files/myfile.txt\", \"r\")\n",
        "\n",
        "# Process file\n",
        "for line in myfile:\n",
        "  print(line, end = \"\")\n",
        "\n",
        "# Close file\n",
        "myfile.close()"
      ],
      "execution_count": null,
      "outputs": [
        {
          "output_type": "stream",
          "text": [
            "I am learning Python programming.\n",
            "Python is an interesting language.\n"
          ],
          "name": "stdout"
        }
      ]
    },
    {
      "cell_type": "code",
      "metadata": {
        "colab": {
          "base_uri": "https://localhost:8080/"
        },
        "id": "MWueQhVG5ZBg",
        "outputId": "4e0893ec-4c88-461f-f1db-71a9c862d644"
      },
      "source": [
        "# StudentInfo.csv contains:\n",
        "# ID,Name,Grade \n",
        "# 109,John,A \n",
        "# 289,Zara,B \n",
        "# 157,Richard,C \n",
        "# 322,Sophia,A \n",
        "\n",
        "myfile = open(\"/content/drive/MyDrive/Google Colab Files/StudentInfo.csv\", \"r\")\n",
        "\n",
        "# Discarding the first line and initialize list\n",
        "myfile.readline()\n",
        "mylist = []\n",
        "\n",
        "# Reading file and storing each line in a list\n",
        "for line in myfile:\n",
        "  line = line[: len(line) - 1]  # Remove newline\n",
        "  mylist.append(line)\n",
        "\n",
        "print(\"After Reading:\", mylist)\n",
        "\n",
        "# Separating the values in each line in the list to access them\n",
        "for index in range(len(mylist)):\n",
        "  mylist[index] = mylist[index].split(\",\")\n",
        "\n",
        "print(\"After Processing:\", mylist)"
      ],
      "execution_count": null,
      "outputs": [
        {
          "output_type": "stream",
          "text": [
            "After Reading: ['109,John,A', '289,Zara,B', '157,Richard,C', '322,Sophia,A']\n",
            "After Processing: [['109', 'John', 'A'], ['289', 'Zara', 'B'], ['157', 'Richard', 'C'], ['322', 'Sophia', 'A']]\n"
          ],
          "name": "stdout"
        }
      ]
    },
    {
      "cell_type": "code",
      "metadata": {
        "colab": {
          "base_uri": "https://localhost:8080/"
        },
        "id": "oSGozrBaQhu0",
        "outputId": "fc4fae46-ee48-45c1-c4d0-528fc5e2c1fb"
      },
      "source": [
        "# Printing students with grade A. Indexing: ID = 0, name = 1, and grades = 2\n",
        "def printStudentInfo(studentInfo):\n",
        "  print(\"ID:\", studentInfo[0], end = \", \")\n",
        "  print(\"Name:\", studentInfo[1], end = \", \")\n",
        "  print(\"Grade:\", studentInfo[2])\n",
        "\n",
        "for student in mylist:\n",
        "  if student[2] == 'A':\n",
        "    printStudentInfo(student)"
      ],
      "execution_count": null,
      "outputs": [
        {
          "output_type": "stream",
          "text": [
            "ID: 109, Name: John, Grade: A\n",
            "ID: 322, Name: Sophia, Grade: A\n"
          ],
          "name": "stdout"
        }
      ]
    },
    {
      "cell_type": "markdown",
      "metadata": {
        "id": "DXrUitVeLeCd"
      },
      "source": [
        "## Exception Handling"
      ]
    },
    {
      "cell_type": "code",
      "metadata": {
        "colab": {
          "base_uri": "https://localhost:8080/"
        },
        "id": "ZPKnv0uGLsLq",
        "outputId": "85ed71af-a30d-4a15-bc03-281c84067f88"
      },
      "source": [
        "# Example:\n",
        "try:\n",
        "   fh = open(\"testfile\", \"w\")\n",
        "   fh.write(\"This is my test file for exception handling!!\")\n",
        "except IOError:\n",
        "   print(\"Error: can\\'t find file or read data\")\n",
        "else:\n",
        "   print(\"Written content in the file successfully\")\n",
        "   fh.close()"
      ],
      "execution_count": null,
      "outputs": [
        {
          "output_type": "stream",
          "text": [
            "Written content in the file successfully\n"
          ],
          "name": "stdout"
        }
      ]
    },
    {
      "cell_type": "code",
      "metadata": {
        "colab": {
          "base_uri": "https://localhost:8080/"
        },
        "id": "ypw_IARjL2nl",
        "outputId": "e8a89480-a223-4f79-926c-fd8568969531"
      },
      "source": [
        "# Example:\n",
        "try:\n",
        "   fh = open(\"testfile\", \"r\")\n",
        "   fh.write(\"This is my test file for exception handling!!\")\n",
        "except IOError:\n",
        "   print(\"Error: can\\'t find file or read data\")\n",
        "else:\n",
        "   print(\"Written content in the file successfully\")"
      ],
      "execution_count": null,
      "outputs": [
        {
          "output_type": "stream",
          "text": [
            "Error: can't find file or read data\n"
          ],
          "name": "stdout"
        }
      ]
    }
  ]
}